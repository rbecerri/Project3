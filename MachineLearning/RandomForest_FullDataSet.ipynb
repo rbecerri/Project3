{
 "cells": [
  {
   "cell_type": "markdown",
   "metadata": {},
   "source": [
    "# Random forest\n",
    "\n",
    "The process is:\n",
    "1. Clean up data\n",
    "    The process is remove Objects features (Categorical Values) that we could convert\n",
    "    Note. The features were removed since the get_dummy function failed converting values\n",
    "    Removed Null Values with the MODE values\n",
    "2. Create Model\n",
    "    1 - This notebook contains Random Forest (sklearn)\n",
    "3. Train\n",
    "2. Predict (Stats)"
   ]
  },
  {
   "cell_type": "code",
   "execution_count": 1,
   "metadata": {},
   "outputs": [],
   "source": [
    "import warnings\n",
    "warnings.simplefilter('ignore')\n",
    "\n",
    "import matplotlib.pyplot as plt\n",
    "import pandas as pd\n",
    "import numpy as np"
   ]
  },
  {
   "cell_type": "code",
   "execution_count": 2,
   "metadata": {},
   "outputs": [],
   "source": [
    "#chunksize returns as a loop through the dataset. \n",
    "def transform_data(method, df_chunk):\n",
    "    chunk_final = pd.DataFrame()\n",
    "    if method is None:\n",
    "        for chunk in df_chunk:\n",
    "            chunk_final = chunk_final.append(chunk)\n",
    "    else:\n",
    "        if isinstance(df_chunk, pd.io.parsers.TextFileReader):\n",
    "            for chunk in df_chunk:\n",
    "                chunk_mod = method(chunk)\n",
    "                chunk_final = chunk_final.append(chunk_mod)\n",
    "        if isinstance(df_chunk, list):\n",
    "            for chunk in df_chunk:\n",
    "                chunk_mod = method(chunk)\n",
    "                chunk_final = chunk_final.append(chunk_mod)\n",
    "    return chunk_final"
   ]
  },
  {
   "cell_type": "code",
   "execution_count": 3,
   "metadata": {},
   "outputs": [],
   "source": [
    "def cleanup_data(data_frame):\n",
    "    print(\"Start cleanup_data\")\n",
    "    for column in data.columns:\n",
    "        if data_frame[column].isnull().sum() > 0:\n",
    "            print(column)\n",
    "            data_frame[column].fillna(data_frame[column].mode().iloc[0], inplace=True)\n",
    "    #data_frame = data_frame.fillna(data_frame.mean())\n",
    "    #data_frame = data_frame.fillna(0)\n",
    "    return data_frame"
   ]
  },
  {
   "cell_type": "code",
   "execution_count": 4,
   "metadata": {},
   "outputs": [],
   "source": [
    "#def get_X(dataframe):\n",
    "#    print(\"start get_X\")\n",
    "#    X = dataframe.drop(\"HasDetections\", axis=1)\n",
    "#    X = pd.get_dummies(X, \n",
    "#                   columns=[\"MachineIdentifier\", \"ProductName\", \"EngineVersion\", \"AppVersion\", \"AvSigVersion\", \"Platform\", \"Processor\", \"OsVer\", \"OsPlatformSubRelease\", \"OsBuildLab\", \n",
    "#                            \"SkuEdition\", \"PuaMode\", \"SmartScreen\", \"Census_MDC2FormFactor\", \"Census_DeviceFamily\", \"Census_ProcessorClass\", \"Census_PrimaryDiskTypeName\", \"Census_ChassisTypeName\", \"Census_PowerPlatformRoleName\", \n",
    "#                            \"Census_InternalBatteryType\", \"Census_OSVersion\", \"Census_OSArchitecture\", \"Census_OSBranch\", \"Census_OSEdition\", \"Census_OSSkuName\", \"Census_OSInstallTypeName\", \n",
    "#                            \"Census_OSWUAutoUpdateOptionsName\", \"Census_GenuineStateName\", \"Census_ActivationChannel\", \"Census_FlightRing\"], drop_first=True)\n",
    "#    return X\n",
    "\n",
    "def get_X(dataframe): \n",
    "    print(\"start get_X\")\n",
    "    print(dataframe.shape)\n",
    "    dataframe = dataframe.drop([\"MachineIdentifier\", \"HasDetections\", \"AvSigVersion\", \"OsBuildLab\", \n",
    "                       \"Census_MDC2FormFactor\", \"Census_DeviceFamily\", \"Census_ProcessorClass\", \"Census_PrimaryDiskTypeName\", \"Census_ChassisTypeName\", \n",
    "                        \"Census_PowerPlatformRoleName\", \"Census_InternalBatteryType\", \"Census_OSVersion\", \"Census_OSArchitecture\", \"Census_OSBranch\", \"Census_OSEdition\", \"Census_OSSkuName\", \n",
    "                        \"Census_OSInstallTypeName\", \"Census_OSWUAutoUpdateOptionsName\", \"Census_GenuineStateName\", \"Census_ActivationChannel\", \"Census_FlightRing\"]\n",
    "                        , axis=1)\n",
    "    #\"MachineIdentifier\", \"AvSigVersion\", \"OsBuildLab\", \n",
    "    #\"Census_MDC2FormFactor\", \"Census_DeviceFamily\", \"Census_ProcessorClass\", \"Census_PrimaryDiskTypeName\", \"Census_ChassisTypeName\", \n",
    "    #\"Census_PowerPlatformRoleName\", \"Census_InternalBatteryType\", \"Census_OSVersion\", \"Census_OSArchitecture\", \"Census_OSBranch\", \"Census_OSEdition\", \"Census_OSSkuName\", \n",
    "    #\"Census_OSInstallTypeName\", \"Census_OSWUAutoUpdateOptionsName\", \"Census_GenuineStateName\", \"Census_ActivationChannel\", \"Census_FlightRing\"\n",
    "            \n",
    "    columns=[\"ProductName\", \"EngineVersion\", \"AppVersion\", \"Platform\", \"Processor\", \"OsVer\", \"OsPlatformSubRelease\", \"SkuEdition\", \"PuaMode\", \"SmartScreen\"]\n",
    "    \n",
    "    for column in columns:\n",
    "        print(column)\n",
    "        print(dataframe.shape)\n",
    "        dataframe = pd.get_dummies(dataframe, columns=[column], drop_first=True)\n",
    "        print(dataframe.shape)\n",
    "    \n",
    "    return dataframe"
   ]
  },
  {
   "cell_type": "code",
   "execution_count": 12,
   "metadata": {},
   "outputs": [],
   "source": [
    "def get_fields(dataframe): \n",
    "    stats = pd.DataFrame(columns=[\"column\", \"type\", \"total\"])\n",
    "    dataframeI = dataframe\n",
    "    #dataframeI = dataframeI.drop([\"MachineIdentifier\", \"HasDetections\", \"AvSigVersion\", \"OsBuildLab\", \n",
    "    #                   \"Census_MDC2FormFactor\", \"Census_DeviceFamily\", \"Census_ProcessorClass\", \"Census_PrimaryDiskTypeName\", \"Census_ChassisTypeName\", \n",
    "    #                    \"Census_PowerPlatformRoleName\", \"Census_InternalBatteryType\", \"Census_OSVersion\", \"Census_OSArchitecture\", \"Census_OSBranch\", \"Census_OSEdition\", \"Census_OSSkuName\", \n",
    "    #                    \"Census_OSInstallTypeName\", \"Census_OSWUAutoUpdateOptionsName\", \"Census_GenuineStateName\", \"Census_ActivationChannel\", \"Census_FlightRing\"]\n",
    "    #                    , axis=1)\n",
    "    \n",
    "    for column in dataframeI.columns:\n",
    "        #print(column)\n",
    "        #print(data[column].dtype)\n",
    "        #print(len(data[column].unique()))\n",
    "        stats = stats.append({ \"column\" : column, \n",
    "                      \"type\" : dataframeI[column].dtype, \n",
    "                      \"total\" : len(dataframeI[column].unique())}, ignore_index=True)\n",
    "\n",
    "    print(len(stats))\n",
    "    stats.to_csv(\"features_uniquevalue_count.csv\",  index=False)"
   ]
  },
  {
   "cell_type": "code",
   "execution_count": 10,
   "metadata": {},
   "outputs": [
    {
     "name": "stdout",
     "output_type": "stream",
     "text": [
      "(8921483, 83)\n"
     ]
    }
   ],
   "source": [
    "#df_chunk = pd.read_csv('Resources/train.csv', chunksize=500000)\n",
    "data = pd.read_csv('Resources/train.csv.gz', compression=\"gzip\")\n",
    "#data = transform_data(None, df_chunk)\n",
    "print(data.shape)"
   ]
  },
  {
   "cell_type": "code",
   "execution_count": 13,
   "metadata": {},
   "outputs": [
    {
     "name": "stdout",
     "output_type": "stream",
     "text": [
      "83\n"
     ]
    }
   ],
   "source": [
    "get_fields(data)"
   ]
  },
  {
   "cell_type": "code",
   "execution_count": 18,
   "metadata": {},
   "outputs": [
    {
     "name": "stdout",
     "output_type": "stream",
     "text": [
      "(8921483, 1)\n"
     ]
    }
   ],
   "source": [
    "y = data[[\"HasDetections\"]]\n",
    "print(y.shape)"
   ]
  },
  {
   "cell_type": "code",
   "execution_count": 19,
   "metadata": {},
   "outputs": [
    {
     "name": "stdout",
     "output_type": "stream",
     "text": [
      "start get_X\n",
      "(8921483, 83)\n",
      "ProductName\n",
      "(8921483, 62)\n",
      "(8921483, 66)\n",
      "EngineVersion\n",
      "(8921483, 66)\n",
      "(8921483, 134)\n",
      "AppVersion\n",
      "(8921483, 134)\n",
      "(8921483, 242)\n",
      "Platform\n",
      "(8921483, 242)\n",
      "(8921483, 244)\n",
      "Processor\n",
      "(8921483, 244)\n",
      "(8921483, 245)\n",
      "OsVer\n",
      "(8921483, 245)\n",
      "(8921483, 301)\n",
      "OsPlatformSubRelease\n",
      "(8921483, 301)\n",
      "(8921483, 308)\n",
      "SkuEdition\n",
      "(8921483, 308)\n",
      "(8921483, 314)\n",
      "PuaMode\n",
      "(8921483, 314)\n",
      "(8921483, 314)\n",
      "SmartScreen\n",
      "(8921483, 314)\n",
      "(8921483, 333)\n"
     ]
    },
    {
     "data": {
      "text/html": [
       "<div>\n",
       "<style scoped>\n",
       "    .dataframe tbody tr th:only-of-type {\n",
       "        vertical-align: middle;\n",
       "    }\n",
       "\n",
       "    .dataframe tbody tr th {\n",
       "        vertical-align: top;\n",
       "    }\n",
       "\n",
       "    .dataframe thead th {\n",
       "        text-align: right;\n",
       "    }\n",
       "</style>\n",
       "<table border=\"1\" class=\"dataframe\">\n",
       "  <thead>\n",
       "    <tr style=\"text-align: right;\">\n",
       "      <th></th>\n",
       "      <th>IsBeta</th>\n",
       "      <th>RtpStateBitfield</th>\n",
       "      <th>IsSxsPassiveMode</th>\n",
       "      <th>DefaultBrowsersIdentifier</th>\n",
       "      <th>AVProductStatesIdentifier</th>\n",
       "      <th>AVProductsInstalled</th>\n",
       "      <th>AVProductsEnabled</th>\n",
       "      <th>HasTpm</th>\n",
       "      <th>CountryIdentifier</th>\n",
       "      <th>CityIdentifier</th>\n",
       "      <th>...</th>\n",
       "      <th>SmartScreen_Prompt</th>\n",
       "      <th>SmartScreen_Promt</th>\n",
       "      <th>SmartScreen_RequireAdmin</th>\n",
       "      <th>SmartScreen_Warn</th>\n",
       "      <th>SmartScreen_off</th>\n",
       "      <th>SmartScreen_on</th>\n",
       "      <th>SmartScreen_prompt</th>\n",
       "      <th>SmartScreen_requireAdmin</th>\n",
       "      <th>SmartScreen_requireadmin</th>\n",
       "      <th>SmartScreen_warn</th>\n",
       "    </tr>\n",
       "  </thead>\n",
       "  <tbody>\n",
       "    <tr>\n",
       "      <th>0</th>\n",
       "      <td>0</td>\n",
       "      <td>7.0</td>\n",
       "      <td>0</td>\n",
       "      <td>NaN</td>\n",
       "      <td>53447.0</td>\n",
       "      <td>1.0</td>\n",
       "      <td>1.0</td>\n",
       "      <td>1</td>\n",
       "      <td>29</td>\n",
       "      <td>128035.0</td>\n",
       "      <td>...</td>\n",
       "      <td>0</td>\n",
       "      <td>0</td>\n",
       "      <td>0</td>\n",
       "      <td>0</td>\n",
       "      <td>0</td>\n",
       "      <td>0</td>\n",
       "      <td>0</td>\n",
       "      <td>0</td>\n",
       "      <td>0</td>\n",
       "      <td>0</td>\n",
       "    </tr>\n",
       "    <tr>\n",
       "      <th>1</th>\n",
       "      <td>0</td>\n",
       "      <td>7.0</td>\n",
       "      <td>0</td>\n",
       "      <td>NaN</td>\n",
       "      <td>53447.0</td>\n",
       "      <td>1.0</td>\n",
       "      <td>1.0</td>\n",
       "      <td>1</td>\n",
       "      <td>93</td>\n",
       "      <td>1482.0</td>\n",
       "      <td>...</td>\n",
       "      <td>0</td>\n",
       "      <td>0</td>\n",
       "      <td>0</td>\n",
       "      <td>0</td>\n",
       "      <td>0</td>\n",
       "      <td>0</td>\n",
       "      <td>0</td>\n",
       "      <td>0</td>\n",
       "      <td>0</td>\n",
       "      <td>0</td>\n",
       "    </tr>\n",
       "    <tr>\n",
       "      <th>2</th>\n",
       "      <td>0</td>\n",
       "      <td>7.0</td>\n",
       "      <td>0</td>\n",
       "      <td>NaN</td>\n",
       "      <td>53447.0</td>\n",
       "      <td>1.0</td>\n",
       "      <td>1.0</td>\n",
       "      <td>1</td>\n",
       "      <td>86</td>\n",
       "      <td>153579.0</td>\n",
       "      <td>...</td>\n",
       "      <td>0</td>\n",
       "      <td>0</td>\n",
       "      <td>1</td>\n",
       "      <td>0</td>\n",
       "      <td>0</td>\n",
       "      <td>0</td>\n",
       "      <td>0</td>\n",
       "      <td>0</td>\n",
       "      <td>0</td>\n",
       "      <td>0</td>\n",
       "    </tr>\n",
       "    <tr>\n",
       "      <th>3</th>\n",
       "      <td>0</td>\n",
       "      <td>7.0</td>\n",
       "      <td>0</td>\n",
       "      <td>NaN</td>\n",
       "      <td>53447.0</td>\n",
       "      <td>1.0</td>\n",
       "      <td>1.0</td>\n",
       "      <td>1</td>\n",
       "      <td>88</td>\n",
       "      <td>20710.0</td>\n",
       "      <td>...</td>\n",
       "      <td>0</td>\n",
       "      <td>0</td>\n",
       "      <td>0</td>\n",
       "      <td>0</td>\n",
       "      <td>0</td>\n",
       "      <td>0</td>\n",
       "      <td>0</td>\n",
       "      <td>0</td>\n",
       "      <td>0</td>\n",
       "      <td>0</td>\n",
       "    </tr>\n",
       "    <tr>\n",
       "      <th>4</th>\n",
       "      <td>0</td>\n",
       "      <td>7.0</td>\n",
       "      <td>0</td>\n",
       "      <td>NaN</td>\n",
       "      <td>53447.0</td>\n",
       "      <td>1.0</td>\n",
       "      <td>1.0</td>\n",
       "      <td>1</td>\n",
       "      <td>18</td>\n",
       "      <td>37376.0</td>\n",
       "      <td>...</td>\n",
       "      <td>0</td>\n",
       "      <td>0</td>\n",
       "      <td>1</td>\n",
       "      <td>0</td>\n",
       "      <td>0</td>\n",
       "      <td>0</td>\n",
       "      <td>0</td>\n",
       "      <td>0</td>\n",
       "      <td>0</td>\n",
       "      <td>0</td>\n",
       "    </tr>\n",
       "  </tbody>\n",
       "</table>\n",
       "<p>5 rows × 333 columns</p>\n",
       "</div>"
      ],
      "text/plain": [
       "   IsBeta  RtpStateBitfield  IsSxsPassiveMode  DefaultBrowsersIdentifier  \\\n",
       "0       0               7.0                 0                        NaN   \n",
       "1       0               7.0                 0                        NaN   \n",
       "2       0               7.0                 0                        NaN   \n",
       "3       0               7.0                 0                        NaN   \n",
       "4       0               7.0                 0                        NaN   \n",
       "\n",
       "   AVProductStatesIdentifier  AVProductsInstalled  AVProductsEnabled  HasTpm  \\\n",
       "0                    53447.0                  1.0                1.0       1   \n",
       "1                    53447.0                  1.0                1.0       1   \n",
       "2                    53447.0                  1.0                1.0       1   \n",
       "3                    53447.0                  1.0                1.0       1   \n",
       "4                    53447.0                  1.0                1.0       1   \n",
       "\n",
       "   CountryIdentifier  CityIdentifier        ...         SmartScreen_Prompt  \\\n",
       "0                 29        128035.0        ...                          0   \n",
       "1                 93          1482.0        ...                          0   \n",
       "2                 86        153579.0        ...                          0   \n",
       "3                 88         20710.0        ...                          0   \n",
       "4                 18         37376.0        ...                          0   \n",
       "\n",
       "   SmartScreen_Promt  SmartScreen_RequireAdmin  SmartScreen_Warn  \\\n",
       "0                  0                         0                 0   \n",
       "1                  0                         0                 0   \n",
       "2                  0                         1                 0   \n",
       "3                  0                         0                 0   \n",
       "4                  0                         1                 0   \n",
       "\n",
       "   SmartScreen_off  SmartScreen_on  SmartScreen_prompt  \\\n",
       "0                0               0                   0   \n",
       "1                0               0                   0   \n",
       "2                0               0                   0   \n",
       "3                0               0                   0   \n",
       "4                0               0                   0   \n",
       "\n",
       "   SmartScreen_requireAdmin  SmartScreen_requireadmin  SmartScreen_warn  \n",
       "0                         0                         0                 0  \n",
       "1                         0                         0                 0  \n",
       "2                         0                         0                 0  \n",
       "3                         0                         0                 0  \n",
       "4                         0                         0                 0  \n",
       "\n",
       "[5 rows x 333 columns]"
      ]
     },
     "execution_count": 19,
     "metadata": {},
     "output_type": "execute_result"
    }
   ],
   "source": [
    "data = get_X(data)\n",
    "data.head()"
   ]
  },
  {
   "cell_type": "code",
   "execution_count": 20,
   "metadata": {},
   "outputs": [
    {
     "name": "stdout",
     "output_type": "stream",
     "text": [
      "Start cleanup_data\n",
      "RtpStateBitfield\n",
      "DefaultBrowsersIdentifier\n",
      "AVProductStatesIdentifier\n",
      "AVProductsInstalled\n",
      "AVProductsEnabled\n",
      "CityIdentifier\n",
      "OrganizationIdentifier\n",
      "GeoNameIdentifier\n",
      "IsProtected\n",
      "SMode\n",
      "IeVerIdentifier\n",
      "Firewall\n",
      "UacLuaenable\n",
      "Census_OEMNameIdentifier\n",
      "Census_OEMModelIdentifier\n",
      "Census_ProcessorCoreCount\n",
      "Census_ProcessorManufacturerIdentifier\n",
      "Census_ProcessorModelIdentifier\n",
      "Census_PrimaryDiskTotalCapacity\n",
      "Census_SystemVolumeTotalCapacity\n",
      "Census_TotalPhysicalRAM\n",
      "Census_InternalPrimaryDiagonalDisplaySizeInInches\n",
      "Census_InternalPrimaryDisplayResolutionHorizontal\n",
      "Census_InternalPrimaryDisplayResolutionVertical\n",
      "Census_InternalBatteryNumberOfCharges\n",
      "Census_OSInstallLanguageIdentifier\n",
      "Census_IsFlightingInternal\n",
      "Census_IsFlightsDisabled\n",
      "Census_ThresholdOptIn\n",
      "Census_FirmwareManufacturerIdentifier\n",
      "Census_FirmwareVersionIdentifier\n",
      "Census_IsWIMBootEnabled\n",
      "Census_IsVirtualDevice\n",
      "Census_IsAlwaysOnAlwaysConnectedCapable\n",
      "Wdft_IsGamer\n",
      "Wdft_RegionIdentifier\n"
     ]
    }
   ],
   "source": [
    "data = cleanup_data(data)"
   ]
  },
  {
   "cell_type": "code",
   "execution_count": 21,
   "metadata": {},
   "outputs": [
    {
     "name": "stdout",
     "output_type": "stream",
     "text": [
      "(8921483, 333) (8921483, 1)\n"
     ]
    }
   ],
   "source": [
    "print(data.shape, y.shape)"
   ]
  },
  {
   "cell_type": "code",
   "execution_count": 22,
   "metadata": {},
   "outputs": [
    {
     "name": "stdout",
     "output_type": "stream",
     "text": [
      "(6691112, 333) (6691112, 1)\n"
     ]
    }
   ],
   "source": [
    "from sklearn.model_selection import train_test_split\n",
    "X_train, X_test, y_train, y_test = train_test_split(data, y, random_state=1, stratify=y)\n",
    "print(X_train.shape, y_train.shape)"
   ]
  },
  {
   "cell_type": "code",
   "execution_count": 24,
   "metadata": {},
   "outputs": [
    {
     "name": "stdout",
     "output_type": "stream",
     "text": [
      "(6691112, 333) (6691112, 1)\n"
     ]
    }
   ],
   "source": [
    "print(X_train.shape, y_train.shape)"
   ]
  },
  {
   "cell_type": "code",
   "execution_count": 25,
   "metadata": {},
   "outputs": [
    {
     "name": "stderr",
     "output_type": "stream",
     "text": [
      "/usr/local/lib/python3.6/site-packages/sklearn/ensemble/weight_boosting.py:29: DeprecationWarning: numpy.core.umath_tests is an internal NumPy module and should not be imported. It will be removed in a future NumPy release.\n",
      "  from numpy.core.umath_tests import inner1d\n"
     ]
    },
    {
     "data": {
      "text/plain": [
       "RandomForestClassifier(bootstrap=True, class_weight=None, criterion='gini',\n",
       "            max_depth=None, max_features='auto', max_leaf_nodes=None,\n",
       "            min_impurity_decrease=0.0, min_impurity_split=None,\n",
       "            min_samples_leaf=1, min_samples_split=2,\n",
       "            min_weight_fraction_leaf=0.0, n_estimators=10, n_jobs=1,\n",
       "            oob_score=False, random_state=None, verbose=0,\n",
       "            warm_start=False)"
      ]
     },
     "execution_count": 25,
     "metadata": {},
     "output_type": "execute_result"
    }
   ],
   "source": [
    "from sklearn.ensemble import RandomForestClassifier \n",
    "## This line instantiates the model. \n",
    "rf = RandomForestClassifier() \n",
    "## Fit the model on your training data.\n",
    "rf.fit(X_train, y_train)"
   ]
  },
  {
   "cell_type": "code",
   "execution_count": 27,
   "metadata": {},
   "outputs": [
    {
     "data": {
      "text/plain": [
       "0.6167314765122036"
      ]
     },
     "execution_count": 27,
     "metadata": {},
     "output_type": "execute_result"
    }
   ],
   "source": [
    "#Test Score\n",
    "rf.score(X_test, y_test)"
   ]
  },
  {
   "cell_type": "code",
   "execution_count": 28,
   "metadata": {},
   "outputs": [
    {
     "data": {
      "text/html": [
       "<div>\n",
       "<style scoped>\n",
       "    .dataframe tbody tr th:only-of-type {\n",
       "        vertical-align: middle;\n",
       "    }\n",
       "\n",
       "    .dataframe tbody tr th {\n",
       "        vertical-align: top;\n",
       "    }\n",
       "\n",
       "    .dataframe thead th {\n",
       "        text-align: right;\n",
       "    }\n",
       "</style>\n",
       "<table border=\"1\" class=\"dataframe\">\n",
       "  <thead>\n",
       "    <tr style=\"text-align: right;\">\n",
       "      <th></th>\n",
       "      <th>importance</th>\n",
       "    </tr>\n",
       "  </thead>\n",
       "  <tbody>\n",
       "    <tr>\n",
       "      <th>CityIdentifier</th>\n",
       "      <td>0.070707</td>\n",
       "    </tr>\n",
       "    <tr>\n",
       "      <th>Census_SystemVolumeTotalCapacity</th>\n",
       "      <td>0.067003</td>\n",
       "    </tr>\n",
       "    <tr>\n",
       "      <th>Census_FirmwareVersionIdentifier</th>\n",
       "      <td>0.062323</td>\n",
       "    </tr>\n",
       "    <tr>\n",
       "      <th>Census_OEMModelIdentifier</th>\n",
       "      <td>0.054671</td>\n",
       "    </tr>\n",
       "    <tr>\n",
       "      <th>Census_ProcessorModelIdentifier</th>\n",
       "      <td>0.053732</td>\n",
       "    </tr>\n",
       "  </tbody>\n",
       "</table>\n",
       "</div>"
      ],
      "text/plain": [
       "                                  importance\n",
       "CityIdentifier                      0.070707\n",
       "Census_SystemVolumeTotalCapacity    0.067003\n",
       "Census_FirmwareVersionIdentifier    0.062323\n",
       "Census_OEMModelIdentifier           0.054671\n",
       "Census_ProcessorModelIdentifier     0.053732"
      ]
     },
     "execution_count": 28,
     "metadata": {},
     "output_type": "execute_result"
    }
   ],
   "source": [
    "feature_importances = pd.DataFrame(rf.feature_importances_,\n",
    "                                   index = X_train.columns,\n",
    "                                    columns=['importance']).sort_values('importance', ascending=False)\n",
    "feature_importances.head()"
   ]
  },
  {
   "cell_type": "code",
   "execution_count": 31,
   "metadata": {},
   "outputs": [],
   "source": [
    "feature_importances[feature_importances['importance'] != 0].to_csv('feature_importances.csv', index_label='Features')"
   ]
  },
  {
   "cell_type": "code",
   "execution_count": null,
   "metadata": {},
   "outputs": [],
   "source": [
    "top_features = list(feature_importances[feature_importances['importance'] != 0].index)\n",
    "top_features"
   ]
  }
 ],
 "metadata": {
  "kernelspec": {
   "display_name": "Python 3",
   "language": "python",
   "name": "python3"
  },
  "language_info": {
   "codemirror_mode": {
    "name": "ipython",
    "version": 3
   },
   "file_extension": ".py",
   "mimetype": "text/x-python",
   "name": "python",
   "nbconvert_exporter": "python",
   "pygments_lexer": "ipython3",
   "version": "3.6.5"
  }
 },
 "nbformat": 4,
 "nbformat_minor": 2
}

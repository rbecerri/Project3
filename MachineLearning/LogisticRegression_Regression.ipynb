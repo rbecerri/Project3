{
 "cells": [
  {
   "cell_type": "code",
   "execution_count": 1,
   "metadata": {},
   "outputs": [],
   "source": [
    "import warnings\n",
    "warnings.simplefilter('ignore')\n",
    "\n",
    "import matplotlib.pyplot as plt\n",
    "import pandas as pd\n",
    "import numpy as np"
   ]
  },
  {
   "cell_type": "code",
   "execution_count": 2,
   "metadata": {},
   "outputs": [],
   "source": [
    "#chunksize returns as a loop through the dataset. \n",
    "def transform_data(method, df_chunk):\n",
    "    chunk_final = pd.DataFrame()\n",
    "    if method is None:\n",
    "        for chunk in df_chunk:\n",
    "            chunk_final = chunk_final.append(chunk)\n",
    "    else:\n",
    "        if isinstance(df_chunk, pd.io.parsers.TextFileReader):\n",
    "            for chunk in df_chunk:\n",
    "                chunk_mod = method(chunk)\n",
    "                chunk_final = chunk_final.append(chunk_mod)\n",
    "        if isinstance(df_chunk, list):\n",
    "            for chunk in df_chunk:\n",
    "                chunk_mod = method(chunk)\n",
    "                chunk_final = chunk_final.append(chunk_mod)\n",
    "    return chunk_final"
   ]
  },
  {
   "cell_type": "code",
   "execution_count": 3,
   "metadata": {},
   "outputs": [],
   "source": [
    "def cleanup_data(data_frame):\n",
    "    print(\"Start cleanup_data\")\n",
    "    for column in data.columns:\n",
    "        if data_frame[column].isnull().sum() > 0:\n",
    "            print(column)\n",
    "            data_frame[column].fillna(data_frame[column].mode().iloc[0], inplace=True)\n",
    "    #data_frame = data_frame.fillna(data_frame.mean())\n",
    "    #data_frame = data_frame.fillna(0)\n",
    "    return data_frame"
   ]
  },
  {
   "cell_type": "code",
   "execution_count": 4,
   "metadata": {},
   "outputs": [],
   "source": [
    "#def get_X(dataframe):\n",
    "#    print(\"start get_X\")\n",
    "#    X = dataframe.drop(\"HasDetections\", axis=1)\n",
    "#    X = pd.get_dummies(X, \n",
    "#                   columns=[\"MachineIdentifier\", \"ProductName\", \"EngineVersion\", \"AppVersion\", \"AvSigVersion\", \"Platform\", \"Processor\", \"OsVer\", \"OsPlatformSubRelease\", \"OsBuildLab\", \n",
    "#                            \"SkuEdition\", \"PuaMode\", \"SmartScreen\", \"Census_MDC2FormFactor\", \"Census_DeviceFamily\", \"Census_ProcessorClass\", \"Census_PrimaryDiskTypeName\", \"Census_ChassisTypeName\", \"Census_PowerPlatformRoleName\", \n",
    "#                            \"Census_InternalBatteryType\", \"Census_OSVersion\", \"Census_OSArchitecture\", \"Census_OSBranch\", \"Census_OSEdition\", \"Census_OSSkuName\", \"Census_OSInstallTypeName\", \n",
    "#                            \"Census_OSWUAutoUpdateOptionsName\", \"Census_GenuineStateName\", \"Census_ActivationChannel\", \"Census_FlightRing\"], drop_first=True)\n",
    "#    return X\n",
    "\n",
    "def get_X(dataframe): \n",
    "    print(\"start get_X\")\n",
    "    print(dataframe.shape)\n",
    "    dataframe = dataframe.drop([\"MachineIdentifier\", \"HasDetections\", \"AvSigVersion\", \"OsBuildLab\", \n",
    "                       \"Census_MDC2FormFactor\", \"Census_DeviceFamily\", \"Census_ProcessorClass\", \"Census_PrimaryDiskTypeName\", \"Census_ChassisTypeName\", \n",
    "                        \"Census_PowerPlatformRoleName\", \"Census_InternalBatteryType\", \"Census_OSVersion\", \"Census_OSArchitecture\", \"Census_OSBranch\", \"Census_OSEdition\", \"Census_OSSkuName\", \n",
    "                        \"Census_OSInstallTypeName\", \"Census_OSWUAutoUpdateOptionsName\", \"Census_GenuineStateName\", \"Census_ActivationChannel\", \"Census_FlightRing\"]\n",
    "                        , axis=1)\n",
    "    #\"MachineIdentifier\", \"AvSigVersion\", \"OsBuildLab\", \n",
    "    #\"Census_MDC2FormFactor\", \"Census_DeviceFamily\", \"Census_ProcessorClass\", \"Census_PrimaryDiskTypeName\", \"Census_ChassisTypeName\", \n",
    "    #\"Census_PowerPlatformRoleName\", \"Census_InternalBatteryType\", \"Census_OSVersion\", \"Census_OSArchitecture\", \"Census_OSBranch\", \"Census_OSEdition\", \"Census_OSSkuName\", \n",
    "    #\"Census_OSInstallTypeName\", \"Census_OSWUAutoUpdateOptionsName\", \"Census_GenuineStateName\", \"Census_ActivationChannel\", \"Census_FlightRing\"\n",
    "            \n",
    "    columns=[\"ProductName\", \"EngineVersion\", \"AppVersion\", \"Platform\", \"Processor\", \"OsVer\", \"OsPlatformSubRelease\", \"SkuEdition\", \"PuaMode\", \"SmartScreen\"]\n",
    "    \n",
    "    for column in columns:\n",
    "        print(column)\n",
    "        print(dataframe.shape)\n",
    "        dataframe = pd.get_dummies(dataframe, columns=[column], drop_first=True)\n",
    "        print(dataframe.shape)\n",
    "    \n",
    "    return dataframe"
   ]
  },
  {
   "cell_type": "code",
   "execution_count": 5,
   "metadata": {},
   "outputs": [
    {
     "name": "stdout",
     "output_type": "stream",
     "text": [
      "(8921483, 83)\n"
     ]
    }
   ],
   "source": [
    "#df_chunk = pd.read_csv('Resources/train.csv', chunksize=500000)\n",
    "data = pd.read_csv('Resources/train.csv.gz', compression=\"gzip\")\n",
    "#data = transform_data(None, df_chunk)\n",
    "print(data.shape)"
   ]
  },
  {
   "cell_type": "code",
   "execution_count": 6,
   "metadata": {},
   "outputs": [
    {
     "name": "stdout",
     "output_type": "stream",
     "text": [
      "(8921483, 1)\n"
     ]
    }
   ],
   "source": [
    "y = data[[\"HasDetections\"]]\n",
    "print(y.shape)"
   ]
  },
  {
   "cell_type": "code",
   "execution_count": 7,
   "metadata": {},
   "outputs": [
    {
     "name": "stdout",
     "output_type": "stream",
     "text": [
      "start get_X\n",
      "(8921483, 83)\n",
      "ProductName\n",
      "(8921483, 62)\n",
      "(8921483, 66)\n",
      "EngineVersion\n",
      "(8921483, 66)\n",
      "(8921483, 134)\n",
      "AppVersion\n",
      "(8921483, 134)\n",
      "(8921483, 242)\n",
      "Platform\n",
      "(8921483, 242)\n",
      "(8921483, 244)\n",
      "Processor\n",
      "(8921483, 244)\n",
      "(8921483, 245)\n",
      "OsVer\n",
      "(8921483, 245)\n",
      "(8921483, 301)\n",
      "OsPlatformSubRelease\n",
      "(8921483, 301)\n",
      "(8921483, 308)\n",
      "SkuEdition\n",
      "(8921483, 308)\n",
      "(8921483, 314)\n",
      "PuaMode\n",
      "(8921483, 314)\n",
      "(8921483, 314)\n",
      "SmartScreen\n",
      "(8921483, 314)\n",
      "(8921483, 333)\n"
     ]
    },
    {
     "data": {
      "text/html": [
       "<div>\n",
       "<style scoped>\n",
       "    .dataframe tbody tr th:only-of-type {\n",
       "        vertical-align: middle;\n",
       "    }\n",
       "\n",
       "    .dataframe tbody tr th {\n",
       "        vertical-align: top;\n",
       "    }\n",
       "\n",
       "    .dataframe thead th {\n",
       "        text-align: right;\n",
       "    }\n",
       "</style>\n",
       "<table border=\"1\" class=\"dataframe\">\n",
       "  <thead>\n",
       "    <tr style=\"text-align: right;\">\n",
       "      <th></th>\n",
       "      <th>IsBeta</th>\n",
       "      <th>RtpStateBitfield</th>\n",
       "      <th>IsSxsPassiveMode</th>\n",
       "      <th>DefaultBrowsersIdentifier</th>\n",
       "      <th>AVProductStatesIdentifier</th>\n",
       "      <th>AVProductsInstalled</th>\n",
       "      <th>AVProductsEnabled</th>\n",
       "      <th>HasTpm</th>\n",
       "      <th>CountryIdentifier</th>\n",
       "      <th>CityIdentifier</th>\n",
       "      <th>...</th>\n",
       "      <th>SmartScreen_Prompt</th>\n",
       "      <th>SmartScreen_Promt</th>\n",
       "      <th>SmartScreen_RequireAdmin</th>\n",
       "      <th>SmartScreen_Warn</th>\n",
       "      <th>SmartScreen_off</th>\n",
       "      <th>SmartScreen_on</th>\n",
       "      <th>SmartScreen_prompt</th>\n",
       "      <th>SmartScreen_requireAdmin</th>\n",
       "      <th>SmartScreen_requireadmin</th>\n",
       "      <th>SmartScreen_warn</th>\n",
       "    </tr>\n",
       "  </thead>\n",
       "  <tbody>\n",
       "    <tr>\n",
       "      <th>0</th>\n",
       "      <td>0</td>\n",
       "      <td>7.0</td>\n",
       "      <td>0</td>\n",
       "      <td>NaN</td>\n",
       "      <td>53447.0</td>\n",
       "      <td>1.0</td>\n",
       "      <td>1.0</td>\n",
       "      <td>1</td>\n",
       "      <td>29</td>\n",
       "      <td>128035.0</td>\n",
       "      <td>...</td>\n",
       "      <td>0</td>\n",
       "      <td>0</td>\n",
       "      <td>0</td>\n",
       "      <td>0</td>\n",
       "      <td>0</td>\n",
       "      <td>0</td>\n",
       "      <td>0</td>\n",
       "      <td>0</td>\n",
       "      <td>0</td>\n",
       "      <td>0</td>\n",
       "    </tr>\n",
       "    <tr>\n",
       "      <th>1</th>\n",
       "      <td>0</td>\n",
       "      <td>7.0</td>\n",
       "      <td>0</td>\n",
       "      <td>NaN</td>\n",
       "      <td>53447.0</td>\n",
       "      <td>1.0</td>\n",
       "      <td>1.0</td>\n",
       "      <td>1</td>\n",
       "      <td>93</td>\n",
       "      <td>1482.0</td>\n",
       "      <td>...</td>\n",
       "      <td>0</td>\n",
       "      <td>0</td>\n",
       "      <td>0</td>\n",
       "      <td>0</td>\n",
       "      <td>0</td>\n",
       "      <td>0</td>\n",
       "      <td>0</td>\n",
       "      <td>0</td>\n",
       "      <td>0</td>\n",
       "      <td>0</td>\n",
       "    </tr>\n",
       "    <tr>\n",
       "      <th>2</th>\n",
       "      <td>0</td>\n",
       "      <td>7.0</td>\n",
       "      <td>0</td>\n",
       "      <td>NaN</td>\n",
       "      <td>53447.0</td>\n",
       "      <td>1.0</td>\n",
       "      <td>1.0</td>\n",
       "      <td>1</td>\n",
       "      <td>86</td>\n",
       "      <td>153579.0</td>\n",
       "      <td>...</td>\n",
       "      <td>0</td>\n",
       "      <td>0</td>\n",
       "      <td>1</td>\n",
       "      <td>0</td>\n",
       "      <td>0</td>\n",
       "      <td>0</td>\n",
       "      <td>0</td>\n",
       "      <td>0</td>\n",
       "      <td>0</td>\n",
       "      <td>0</td>\n",
       "    </tr>\n",
       "    <tr>\n",
       "      <th>3</th>\n",
       "      <td>0</td>\n",
       "      <td>7.0</td>\n",
       "      <td>0</td>\n",
       "      <td>NaN</td>\n",
       "      <td>53447.0</td>\n",
       "      <td>1.0</td>\n",
       "      <td>1.0</td>\n",
       "      <td>1</td>\n",
       "      <td>88</td>\n",
       "      <td>20710.0</td>\n",
       "      <td>...</td>\n",
       "      <td>0</td>\n",
       "      <td>0</td>\n",
       "      <td>0</td>\n",
       "      <td>0</td>\n",
       "      <td>0</td>\n",
       "      <td>0</td>\n",
       "      <td>0</td>\n",
       "      <td>0</td>\n",
       "      <td>0</td>\n",
       "      <td>0</td>\n",
       "    </tr>\n",
       "    <tr>\n",
       "      <th>4</th>\n",
       "      <td>0</td>\n",
       "      <td>7.0</td>\n",
       "      <td>0</td>\n",
       "      <td>NaN</td>\n",
       "      <td>53447.0</td>\n",
       "      <td>1.0</td>\n",
       "      <td>1.0</td>\n",
       "      <td>1</td>\n",
       "      <td>18</td>\n",
       "      <td>37376.0</td>\n",
       "      <td>...</td>\n",
       "      <td>0</td>\n",
       "      <td>0</td>\n",
       "      <td>1</td>\n",
       "      <td>0</td>\n",
       "      <td>0</td>\n",
       "      <td>0</td>\n",
       "      <td>0</td>\n",
       "      <td>0</td>\n",
       "      <td>0</td>\n",
       "      <td>0</td>\n",
       "    </tr>\n",
       "  </tbody>\n",
       "</table>\n",
       "<p>5 rows × 333 columns</p>\n",
       "</div>"
      ],
      "text/plain": [
       "   IsBeta  RtpStateBitfield  IsSxsPassiveMode  DefaultBrowsersIdentifier  \\\n",
       "0       0               7.0                 0                        NaN   \n",
       "1       0               7.0                 0                        NaN   \n",
       "2       0               7.0                 0                        NaN   \n",
       "3       0               7.0                 0                        NaN   \n",
       "4       0               7.0                 0                        NaN   \n",
       "\n",
       "   AVProductStatesIdentifier  AVProductsInstalled  AVProductsEnabled  HasTpm  \\\n",
       "0                    53447.0                  1.0                1.0       1   \n",
       "1                    53447.0                  1.0                1.0       1   \n",
       "2                    53447.0                  1.0                1.0       1   \n",
       "3                    53447.0                  1.0                1.0       1   \n",
       "4                    53447.0                  1.0                1.0       1   \n",
       "\n",
       "   CountryIdentifier  CityIdentifier        ...         SmartScreen_Prompt  \\\n",
       "0                 29        128035.0        ...                          0   \n",
       "1                 93          1482.0        ...                          0   \n",
       "2                 86        153579.0        ...                          0   \n",
       "3                 88         20710.0        ...                          0   \n",
       "4                 18         37376.0        ...                          0   \n",
       "\n",
       "   SmartScreen_Promt  SmartScreen_RequireAdmin  SmartScreen_Warn  \\\n",
       "0                  0                         0                 0   \n",
       "1                  0                         0                 0   \n",
       "2                  0                         1                 0   \n",
       "3                  0                         0                 0   \n",
       "4                  0                         1                 0   \n",
       "\n",
       "   SmartScreen_off  SmartScreen_on  SmartScreen_prompt  \\\n",
       "0                0               0                   0   \n",
       "1                0               0                   0   \n",
       "2                0               0                   0   \n",
       "3                0               0                   0   \n",
       "4                0               0                   0   \n",
       "\n",
       "   SmartScreen_requireAdmin  SmartScreen_requireadmin  SmartScreen_warn  \n",
       "0                         0                         0                 0  \n",
       "1                         0                         0                 0  \n",
       "2                         0                         0                 0  \n",
       "3                         0                         0                 0  \n",
       "4                         0                         0                 0  \n",
       "\n",
       "[5 rows x 333 columns]"
      ]
     },
     "execution_count": 7,
     "metadata": {},
     "output_type": "execute_result"
    }
   ],
   "source": [
    "data = get_X(data)\n",
    "data.head()"
   ]
  },
  {
   "cell_type": "code",
   "execution_count": 8,
   "metadata": {},
   "outputs": [
    {
     "name": "stdout",
     "output_type": "stream",
     "text": [
      "Start cleanup_data\n",
      "RtpStateBitfield\n",
      "DefaultBrowsersIdentifier\n",
      "AVProductStatesIdentifier\n",
      "AVProductsInstalled\n",
      "AVProductsEnabled\n",
      "CityIdentifier\n",
      "OrganizationIdentifier\n",
      "GeoNameIdentifier\n",
      "IsProtected\n",
      "SMode\n",
      "IeVerIdentifier\n",
      "Firewall\n",
      "UacLuaenable\n",
      "Census_OEMNameIdentifier\n",
      "Census_OEMModelIdentifier\n",
      "Census_ProcessorCoreCount\n",
      "Census_ProcessorManufacturerIdentifier\n",
      "Census_ProcessorModelIdentifier\n",
      "Census_PrimaryDiskTotalCapacity\n",
      "Census_SystemVolumeTotalCapacity\n",
      "Census_TotalPhysicalRAM\n",
      "Census_InternalPrimaryDiagonalDisplaySizeInInches\n",
      "Census_InternalPrimaryDisplayResolutionHorizontal\n",
      "Census_InternalPrimaryDisplayResolutionVertical\n",
      "Census_InternalBatteryNumberOfCharges\n",
      "Census_OSInstallLanguageIdentifier\n",
      "Census_IsFlightingInternal\n",
      "Census_IsFlightsDisabled\n",
      "Census_ThresholdOptIn\n",
      "Census_FirmwareManufacturerIdentifier\n",
      "Census_FirmwareVersionIdentifier\n",
      "Census_IsWIMBootEnabled\n",
      "Census_IsVirtualDevice\n",
      "Census_IsAlwaysOnAlwaysConnectedCapable\n",
      "Wdft_IsGamer\n",
      "Wdft_RegionIdentifier\n"
     ]
    }
   ],
   "source": [
    "data = cleanup_data(data)"
   ]
  },
  {
   "cell_type": "code",
   "execution_count": 16,
   "metadata": {},
   "outputs": [],
   "source": [
    "data.to_csv(\"Resources/X_CleanData.csv\")\n",
    "y.to_csv(\"Resources/Y_CleanData.csv\")"
   ]
  },
  {
   "cell_type": "code",
   "execution_count": null,
   "metadata": {},
   "outputs": [],
   "source": [
    "df_chunk = pd.read_csv('Resources/X_CleanData.csv', chunksize=500000)\n",
    "data = transform_data(None, df_chunk)\n",
    "y = pd.read_csv('Resources/Y_CleanData.csv')"
   ]
  },
  {
   "cell_type": "code",
   "execution_count": 9,
   "metadata": {},
   "outputs": [
    {
     "name": "stdout",
     "output_type": "stream",
     "text": [
      "(8921483, 333) (8921483, 1)\n"
     ]
    }
   ],
   "source": [
    "print(data.shape, y.shape)"
   ]
  },
  {
   "cell_type": "code",
   "execution_count": 10,
   "metadata": {},
   "outputs": [
    {
     "name": "stdout",
     "output_type": "stream",
     "text": [
      "(6691112, 333) (6691112, 1)\n"
     ]
    }
   ],
   "source": [
    "from sklearn.model_selection import train_test_split\n",
    "X_train, X_test, y_train, y_test = train_test_split(data, y, random_state=1, stratify=y)\n",
    "print(X_train.shape, y_train.shape)"
   ]
  },
  {
   "cell_type": "code",
   "execution_count": 11,
   "metadata": {},
   "outputs": [
    {
     "name": "stdout",
     "output_type": "stream",
     "text": [
      "(6691112, 333) (6691112, 1)\n"
     ]
    }
   ],
   "source": [
    "print(X_train.shape, y_train.shape)"
   ]
  },
  {
   "cell_type": "code",
   "execution_count": 12,
   "metadata": {},
   "outputs": [
    {
     "data": {
      "text/plain": [
       "LogisticRegression(C=1.0, class_weight=None, dual=False, fit_intercept=True,\n",
       "          intercept_scaling=1, max_iter=100, multi_class='ovr', n_jobs=1,\n",
       "          penalty='l2', random_state=None, solver='liblinear', tol=0.0001,\n",
       "          verbose=0, warm_start=False)"
      ]
     },
     "execution_count": 12,
     "metadata": {},
     "output_type": "execute_result"
    }
   ],
   "source": [
    "from sklearn.linear_model import LogisticRegression\n",
    "classifier = LogisticRegression()\n",
    "classifier"
   ]
  },
  {
   "cell_type": "code",
   "execution_count": 13,
   "metadata": {},
   "outputs": [
    {
     "data": {
      "text/plain": [
       "0    3346943\n",
       "1    3344169\n",
       "Name: HasDetections, dtype: int64"
      ]
     },
     "execution_count": 13,
     "metadata": {},
     "output_type": "execute_result"
    }
   ],
   "source": [
    "y_train.iloc[:,0].value_counts()"
   ]
  },
  {
   "cell_type": "code",
   "execution_count": 17,
   "metadata": {},
   "outputs": [
    {
     "data": {
      "text/plain": [
       "LogisticRegression(C=1.0, class_weight=None, dual=False, fit_intercept=True,\n",
       "          intercept_scaling=1, max_iter=100, multi_class='ovr', n_jobs=1,\n",
       "          penalty='l2', random_state=None, solver='liblinear', tol=0.0001,\n",
       "          verbose=0, warm_start=False)"
      ]
     },
     "execution_count": 17,
     "metadata": {},
     "output_type": "execute_result"
    }
   ],
   "source": [
    "classifier.fit(X_train, y_train)"
   ]
  },
  {
   "cell_type": "code",
   "execution_count": 18,
   "metadata": {},
   "outputs": [
    {
     "data": {
      "text/plain": [
       "0.5368777267515474"
      ]
     },
     "execution_count": 18,
     "metadata": {},
     "output_type": "execute_result"
    }
   ],
   "source": [
    "train_r2 = classifier.score(X_train, y_train)\n",
    "train_r2"
   ]
  },
  {
   "cell_type": "code",
   "execution_count": 19,
   "metadata": {},
   "outputs": [
    {
     "data": {
      "text/plain": [
       "0.5371864142781627"
      ]
     },
     "execution_count": 19,
     "metadata": {},
     "output_type": "execute_result"
    }
   ],
   "source": [
    "test_r2 = classifier.score(X_test, y_test)\n",
    "test_r2"
   ]
  },
  {
   "cell_type": "code",
   "execution_count": 20,
   "metadata": {},
   "outputs": [
    {
     "data": {
      "text/plain": [
       "array([1, 0, 0, ..., 0, 0, 0])"
      ]
     },
     "execution_count": 20,
     "metadata": {},
     "output_type": "execute_result"
    }
   ],
   "source": [
    "predictions_train = classifier.predict(X_train)\n",
    "predictions_train"
   ]
  },
  {
   "cell_type": "code",
   "execution_count": 21,
   "metadata": {},
   "outputs": [
    {
     "data": {
      "text/plain": [
       "array([0, 0, 1, ..., 1, 0, 1])"
      ]
     },
     "execution_count": 21,
     "metadata": {},
     "output_type": "execute_result"
    }
   ],
   "source": [
    "predictions_test = classifier.predict(X_test)\n",
    "predictions_test"
   ]
  },
  {
   "cell_type": "code",
   "execution_count": 22,
   "metadata": {},
   "outputs": [
    {
     "name": "stdout",
     "output_type": "stream",
     "text": [
      "MSE_train: 0.46312227324845257, Training Data Score R2: 0.5368777267515474\n",
      "MSE_test: 0.4628135857218373, Test Data Score R2: 0.5371864142781627\n"
     ]
    }
   ],
   "source": [
    "from sklearn.metrics import mean_squared_error\n",
    "MSE_train = mean_squared_error(y_train, predictions_train)\n",
    "MSE_test = mean_squared_error(y_test, predictions_test)\n",
    "print(f\"MSE_train: {MSE_train}, Training Data Score R2: {train_r2}\")\n",
    "print(f\"MSE_test: {MSE_test}, Test Data Score R2: {test_r2}\")"
   ]
  },
  {
   "cell_type": "code",
   "execution_count": null,
   "metadata": {},
   "outputs": [],
   "source": [
    "plt.scatter(predictions_train, predictions_train - y_train, c=\"blue\", label=\"Training Data\")\n",
    "plt.scatter(predictions_test, predictions_test - y_test, c=\"orange\", label=\"Testing Data\")\n",
    "plt.legend()\n",
    "plt.hlines(y=0, xmin=y_test.min(), xmax=y_test.max())\n",
    "plt.title(\"Residual Plot\")\n",
    "plt.show()"
   ]
  },
  {
   "cell_type": "code",
   "execution_count": 24,
   "metadata": {},
   "outputs": [],
   "source": [
    "import pickle\n",
    "pkl_filename = \"Logictic_Regresion.pkl\"\n",
    "#with open(pkl_filename, 'wb') as file:  \n",
    "#    pickle.dump(classifier, file)"
   ]
  },
  {
   "cell_type": "code",
   "execution_count": 13,
   "metadata": {},
   "outputs": [],
   "source": [
    "import pickle\n",
    "pkl_filename = \"Logictic_Regresion.pkl\"\n",
    "with open(pkl_filename, 'rb') as file:  \n",
    "    pickle_model = pickle.load(file)"
   ]
  },
  {
   "cell_type": "code",
   "execution_count": 16,
   "metadata": {},
   "outputs": [
    {
     "name": "stdout",
     "output_type": "stream",
     "text": [
      "MSE_test: 0.4628135857218373, Test Data Score R2: 0.5371864142781627\n"
     ]
    }
   ],
   "source": [
    "from sklearn.metrics import mean_squared_error\n",
    "score_test = pickle_model.score(X_test, y_test)  \n",
    "predict_test = pickle_model.predict(X_test)\n",
    "MSE_test_2 = mean_squared_error(y_test, predict_test)\n",
    "print(f\"MSE_test: {MSE_test_2}, Test Data Score R2: {score_test}\")"
   ]
  },
  {
   "cell_type": "code",
   "execution_count": 19,
   "metadata": {},
   "outputs": [
    {
     "data": {
      "text/plain": [
       "333"
      ]
     },
     "execution_count": 19,
     "metadata": {},
     "output_type": "execute_result"
    }
   ],
   "source": [
    "X_train.shape[1]"
   ]
  },
  {
   "cell_type": "code",
   "execution_count": 20,
   "metadata": {},
   "outputs": [
    {
     "data": {
      "text/plain": [
       "7433569    0\n",
       "4610591    0\n",
       "8339454    1\n",
       "5962255    1\n",
       "7407408    0\n",
       "Name: HasDetections, dtype: int64"
      ]
     },
     "execution_count": 20,
     "metadata": {},
     "output_type": "execute_result"
    }
   ],
   "source": [
    "y_train[\"HasDetections\"].head()"
   ]
  },
  {
   "cell_type": "code",
   "execution_count": 21,
   "metadata": {},
   "outputs": [
    {
     "data": {
      "text/html": [
       "<div>\n",
       "<style scoped>\n",
       "    .dataframe tbody tr th:only-of-type {\n",
       "        vertical-align: middle;\n",
       "    }\n",
       "\n",
       "    .dataframe tbody tr th {\n",
       "        vertical-align: top;\n",
       "    }\n",
       "\n",
       "    .dataframe thead th {\n",
       "        text-align: right;\n",
       "    }\n",
       "</style>\n",
       "<table border=\"1\" class=\"dataframe\">\n",
       "  <thead>\n",
       "    <tr style=\"text-align: right;\">\n",
       "      <th></th>\n",
       "      <th>HasDetections</th>\n",
       "    </tr>\n",
       "  </thead>\n",
       "  <tbody>\n",
       "    <tr>\n",
       "      <th>7433569</th>\n",
       "      <td>False</td>\n",
       "    </tr>\n",
       "    <tr>\n",
       "      <th>4610591</th>\n",
       "      <td>False</td>\n",
       "    </tr>\n",
       "    <tr>\n",
       "      <th>8339454</th>\n",
       "      <td>True</td>\n",
       "    </tr>\n",
       "    <tr>\n",
       "      <th>5962255</th>\n",
       "      <td>True</td>\n",
       "    </tr>\n",
       "    <tr>\n",
       "      <th>7407408</th>\n",
       "      <td>False</td>\n",
       "    </tr>\n",
       "  </tbody>\n",
       "</table>\n",
       "</div>"
      ],
      "text/plain": [
       "        HasDetections\n",
       "7433569         False\n",
       "4610591         False\n",
       "8339454          True\n",
       "5962255          True\n",
       "7407408         False"
      ]
     },
     "execution_count": 21,
     "metadata": {},
     "output_type": "execute_result"
    }
   ],
   "source": [
    "y_train[\"HasDetections\"] = y_train[\"HasDetections\"].apply(lambda x: \"True\" if x==1 else \"False\")\n",
    "y_train.head()"
   ]
  },
  {
   "cell_type": "code",
   "execution_count": 22,
   "metadata": {},
   "outputs": [
    {
     "data": {
      "text/html": [
       "<div>\n",
       "<style scoped>\n",
       "    .dataframe tbody tr th:only-of-type {\n",
       "        vertical-align: middle;\n",
       "    }\n",
       "\n",
       "    .dataframe tbody tr th {\n",
       "        vertical-align: top;\n",
       "    }\n",
       "\n",
       "    .dataframe thead th {\n",
       "        text-align: right;\n",
       "    }\n",
       "</style>\n",
       "<table border=\"1\" class=\"dataframe\">\n",
       "  <thead>\n",
       "    <tr style=\"text-align: right;\">\n",
       "      <th></th>\n",
       "      <th>HasDetections_False</th>\n",
       "      <th>HasDetections_True</th>\n",
       "    </tr>\n",
       "  </thead>\n",
       "  <tbody>\n",
       "    <tr>\n",
       "      <th>7433569</th>\n",
       "      <td>1</td>\n",
       "      <td>0</td>\n",
       "    </tr>\n",
       "    <tr>\n",
       "      <th>4610591</th>\n",
       "      <td>1</td>\n",
       "      <td>0</td>\n",
       "    </tr>\n",
       "    <tr>\n",
       "      <th>8339454</th>\n",
       "      <td>0</td>\n",
       "      <td>1</td>\n",
       "    </tr>\n",
       "    <tr>\n",
       "      <th>5962255</th>\n",
       "      <td>0</td>\n",
       "      <td>1</td>\n",
       "    </tr>\n",
       "    <tr>\n",
       "      <th>7407408</th>\n",
       "      <td>1</td>\n",
       "      <td>0</td>\n",
       "    </tr>\n",
       "  </tbody>\n",
       "</table>\n",
       "</div>"
      ],
      "text/plain": [
       "         HasDetections_False  HasDetections_True\n",
       "7433569                    1                   0\n",
       "4610591                    1                   0\n",
       "8339454                    0                   1\n",
       "5962255                    0                   1\n",
       "7407408                    1                   0"
      ]
     },
     "execution_count": 22,
     "metadata": {},
     "output_type": "execute_result"
    }
   ],
   "source": [
    "Y_train = pd.get_dummies(y_train)\n",
    "Y_train.head()"
   ]
  },
  {
   "cell_type": "code",
   "execution_count": 23,
   "metadata": {},
   "outputs": [
    {
     "data": {
      "text/plain": [
       "3164226    1\n",
       "556644     1\n",
       "7764601    0\n",
       "3856066    0\n",
       "8261251    0\n",
       "Name: HasDetections, dtype: int64"
      ]
     },
     "execution_count": 23,
     "metadata": {},
     "output_type": "execute_result"
    }
   ],
   "source": [
    "y_test[\"HasDetections\"].head()"
   ]
  },
  {
   "cell_type": "code",
   "execution_count": 24,
   "metadata": {},
   "outputs": [
    {
     "data": {
      "text/html": [
       "<div>\n",
       "<style scoped>\n",
       "    .dataframe tbody tr th:only-of-type {\n",
       "        vertical-align: middle;\n",
       "    }\n",
       "\n",
       "    .dataframe tbody tr th {\n",
       "        vertical-align: top;\n",
       "    }\n",
       "\n",
       "    .dataframe thead th {\n",
       "        text-align: right;\n",
       "    }\n",
       "</style>\n",
       "<table border=\"1\" class=\"dataframe\">\n",
       "  <thead>\n",
       "    <tr style=\"text-align: right;\">\n",
       "      <th></th>\n",
       "      <th>HasDetections</th>\n",
       "    </tr>\n",
       "  </thead>\n",
       "  <tbody>\n",
       "    <tr>\n",
       "      <th>3164226</th>\n",
       "      <td>True</td>\n",
       "    </tr>\n",
       "    <tr>\n",
       "      <th>556644</th>\n",
       "      <td>True</td>\n",
       "    </tr>\n",
       "    <tr>\n",
       "      <th>7764601</th>\n",
       "      <td>False</td>\n",
       "    </tr>\n",
       "    <tr>\n",
       "      <th>3856066</th>\n",
       "      <td>False</td>\n",
       "    </tr>\n",
       "    <tr>\n",
       "      <th>8261251</th>\n",
       "      <td>False</td>\n",
       "    </tr>\n",
       "  </tbody>\n",
       "</table>\n",
       "</div>"
      ],
      "text/plain": [
       "        HasDetections\n",
       "3164226          True\n",
       "556644           True\n",
       "7764601         False\n",
       "3856066         False\n",
       "8261251         False"
      ]
     },
     "execution_count": 24,
     "metadata": {},
     "output_type": "execute_result"
    }
   ],
   "source": [
    "y_test[\"HasDetections\"] = y_test[\"HasDetections\"].apply(lambda x: \"True\" if x==1 else \"False\")\n",
    "y_test.head()"
   ]
  },
  {
   "cell_type": "code",
   "execution_count": 25,
   "metadata": {},
   "outputs": [
    {
     "data": {
      "text/html": [
       "<div>\n",
       "<style scoped>\n",
       "    .dataframe tbody tr th:only-of-type {\n",
       "        vertical-align: middle;\n",
       "    }\n",
       "\n",
       "    .dataframe tbody tr th {\n",
       "        vertical-align: top;\n",
       "    }\n",
       "\n",
       "    .dataframe thead th {\n",
       "        text-align: right;\n",
       "    }\n",
       "</style>\n",
       "<table border=\"1\" class=\"dataframe\">\n",
       "  <thead>\n",
       "    <tr style=\"text-align: right;\">\n",
       "      <th></th>\n",
       "      <th>HasDetections_False</th>\n",
       "      <th>HasDetections_True</th>\n",
       "    </tr>\n",
       "  </thead>\n",
       "  <tbody>\n",
       "    <tr>\n",
       "      <th>3164226</th>\n",
       "      <td>0</td>\n",
       "      <td>1</td>\n",
       "    </tr>\n",
       "    <tr>\n",
       "      <th>556644</th>\n",
       "      <td>0</td>\n",
       "      <td>1</td>\n",
       "    </tr>\n",
       "    <tr>\n",
       "      <th>7764601</th>\n",
       "      <td>1</td>\n",
       "      <td>0</td>\n",
       "    </tr>\n",
       "    <tr>\n",
       "      <th>3856066</th>\n",
       "      <td>1</td>\n",
       "      <td>0</td>\n",
       "    </tr>\n",
       "    <tr>\n",
       "      <th>8261251</th>\n",
       "      <td>1</td>\n",
       "      <td>0</td>\n",
       "    </tr>\n",
       "  </tbody>\n",
       "</table>\n",
       "</div>"
      ],
      "text/plain": [
       "         HasDetections_False  HasDetections_True\n",
       "3164226                    0                   1\n",
       "556644                     0                   1\n",
       "7764601                    1                   0\n",
       "3856066                    1                   0\n",
       "8261251                    1                   0"
      ]
     },
     "execution_count": 25,
     "metadata": {},
     "output_type": "execute_result"
    }
   ],
   "source": [
    "Y_test = pd.get_dummies(y_test)\n",
    "Y_test.head()"
   ]
  },
  {
   "cell_type": "code",
   "execution_count": 17,
   "metadata": {},
   "outputs": [
    {
     "name": "stderr",
     "output_type": "stream",
     "text": [
      "Using TensorFlow backend.\n"
     ]
    }
   ],
   "source": [
    "from keras.models import Sequential\n",
    "from keras.layers import Dense, Activation\n",
    "output_dim = nb_classes = 2\n",
    "input_dim = X_train.shape[1]\n",
    "model = Sequential()\n",
    "model.add(Dense(output_dim, input_dim=input_dim, activation=\"softmax\"))\n",
    "batch_size = 256\n",
    "nb_epoch = 20"
   ]
  },
  {
   "cell_type": "code",
   "execution_count": null,
   "metadata": {},
   "outputs": [],
   "source": [
    "model.compile(optimizer=\"sgd\", loss=\"categorical_crossentropy\", metrics=[\"accuracy\"])\n",
    "history = model.fit(X_train, Y_train, batch_size=batch_size, nb_epoch=nb_epoch, verbose=1, validation_data=(X_test, Y_test))"
   ]
  },
  {
   "cell_type": "code",
   "execution_count": 35,
   "metadata": {},
   "outputs": [],
   "source": [
    "import sys\n",
    "default_stdout = sys.stdout\n",
    "sys.stdout = open('keras_training.txt', 'w')\n",
    "\n",
    "model.compile(optimizer=\"sgd\", loss=\"categorical_crossentropy\", metrics=[\"accuracy\"])\n",
    "history = model.fit(X_train, Y_train, batch_size=batch_size, nb_epoch=nb_epoch, verbose=2, validation_data=(X_test, Y_test))\n",
    "\n",
    "sys.stdout = sys.__stdout__\n",
    "sys.stdout = default_stdout"
   ]
  },
  {
   "cell_type": "code",
   "execution_count": 28,
   "metadata": {},
   "outputs": [
    {
     "name": "stdout",
     "output_type": "stream",
     "text": [
      "6691112/6691112 [==============================] - 37s 6us/step\n",
      "2230371/2230371 [==============================] - 14s 6us/step\n",
      "Train Loss: 7.929189826658464, Accuracy: 0.5080566578470066\n",
      "Test Loss: 7.924924928320561, Accuracy: 0.5083212613500487\n"
     ]
    }
   ],
   "source": [
    "train_model_loss, train_model_accuracy = model_load.evaluate(X_train, Y_train, batch_size=256)\n",
    "test_model_loss, test_model_accuracy = model_load.evaluate(X_test, Y_test, batch_size=256)\n",
    "#print(f\"Training Data Score: {training_r2}\")\n",
    "#print(f\"Testing Data Score: {test_r2}\")\n",
    "print(f\"Train Loss: {train_model_loss}, Accuracy: {train_model_accuracy}\")\n",
    "print(f\"Test Loss: {test_model_loss}, Accuracy: {test_model_accuracy}\")"
   ]
  },
  {
   "cell_type": "code",
   "execution_count": 29,
   "metadata": {},
   "outputs": [],
   "source": [
    "predict_train = model_load.predict(X_train)\n",
    "predict_test = model_load.predict(X_test)"
   ]
  },
  {
   "cell_type": "code",
   "execution_count": 30,
   "metadata": {},
   "outputs": [
    {
     "name": "stdout",
     "output_type": "stream",
     "text": [
      "(6691112, 2) (6691112, 2)\n",
      "(2230371, 2) (2230371, 2)\n"
     ]
    }
   ],
   "source": [
    "print(predict_train.shape, Y_train.shape)\n",
    "print(predict_test.shape, Y_test.shape)"
   ]
  },
  {
   "cell_type": "code",
   "execution_count": 41,
   "metadata": {},
   "outputs": [],
   "source": [
    "#model.model.save(\"secuencial_trained.h5\")"
   ]
  },
  {
   "cell_type": "code",
   "execution_count": 26,
   "metadata": {},
   "outputs": [],
   "source": [
    "from keras.models import load_model\n",
    "model_load = load_model(\"secuencial_trained.h5\")"
   ]
  },
  {
   "cell_type": "code",
   "execution_count": 27,
   "metadata": {},
   "outputs": [
    {
     "name": "stdout",
     "output_type": "stream",
     "text": [
      "Loss: 7.924924898523409, Accuracy: 0.5083212613507168\n"
     ]
    }
   ],
   "source": [
    "model_loss, model_accuracy = model_load.evaluate(X_test, Y_test, verbose=2)\n",
    "print(f\"Loss: {model_loss}, Accuracy: {model_accuracy}\")"
   ]
  },
  {
   "cell_type": "code",
   "execution_count": null,
   "metadata": {},
   "outputs": [],
   "source": [
    "#plt.scatter(predict_train, predict_train - Y_train, c=\"blue\", label=\"Training Data\")\n",
    "plt.scatter(predict_train[0], c=\"blue\", label=\"Training Data\")\n",
    "#plt.scatter(predict_test, predict_test - Y_test, c=\"orange\", label=\"Testing Data\")\n",
    "#plt.scatter(predict_test, c=\"orange\", label=\"Testing Data\")\n",
    "plt.legend()\n",
    "#plt.hlines(y=0, xmin=y_test.min(), xmax=y_test.max())\n",
    "plt.title(\"Residual Plot\")\n",
    "plt.show()"
   ]
  }
 ],
 "metadata": {
  "kernelspec": {
   "display_name": "Python 3",
   "language": "python",
   "name": "python3"
  },
  "language_info": {
   "codemirror_mode": {
    "name": "ipython",
    "version": 3
   },
   "file_extension": ".py",
   "mimetype": "text/x-python",
   "name": "python",
   "nbconvert_exporter": "python",
   "pygments_lexer": "ipython3",
   "version": "3.6.5"
  }
 },
 "nbformat": 4,
 "nbformat_minor": 2
}

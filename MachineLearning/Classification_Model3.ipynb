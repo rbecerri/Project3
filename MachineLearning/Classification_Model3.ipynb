{
 "cells": [
  {
   "cell_type": "markdown",
   "metadata": {},
   "source": [
    "# 3rd Model\n",
    "\n",
    "The process is:\n",
    "1. Clean up data\n",
    "    The process is remove Objects features (Categorical Values) that we could convert\n",
    "    Note. The features were removed since the get_dummy function failed converting values\n",
    "    We include features based on a Random Forest model (Feature of Importance) \n",
    "    Removed Null Values with the MODE values\n",
    "2. Create Model\n",
    "    1 - This notebook contains Logistic Regression (sklearn)\n",
    "    2 - This notebook contains Keras Sequencial Model (TensorFlow)\n",
    "3. Train\n",
    "2. Predict (Stats)"
   ]
  },
  {
   "cell_type": "code",
   "execution_count": 1,
   "metadata": {},
   "outputs": [],
   "source": [
    "import warnings\n",
    "warnings.simplefilter('ignore')\n",
    "\n",
    "import matplotlib.pyplot as plt\n",
    "import pandas as pd\n",
    "import numpy as np"
   ]
  },
  {
   "cell_type": "code",
   "execution_count": 2,
   "metadata": {},
   "outputs": [],
   "source": [
    "#chunksize returns as a loop through the dataset. \n",
    "def transform_data(method, df_chunk):\n",
    "    chunk_final = pd.DataFrame()\n",
    "    if method is None:\n",
    "        for chunk in df_chunk:\n",
    "            chunk_final = chunk_final.append(chunk)\n",
    "    else:\n",
    "        if isinstance(df_chunk, pd.io.parsers.TextFileReader):\n",
    "            for chunk in df_chunk:\n",
    "                chunk_mod = method(chunk)\n",
    "                chunk_final = chunk_final.append(chunk_mod)\n",
    "        if isinstance(df_chunk, list):\n",
    "            for chunk in df_chunk:\n",
    "                chunk_mod = method(chunk)\n",
    "                chunk_final = chunk_final.append(chunk_mod)\n",
    "    return chunk_final"
   ]
  },
  {
   "cell_type": "code",
   "execution_count": 3,
   "metadata": {},
   "outputs": [],
   "source": [
    "def cleanup_data(data_frame):\n",
    "    print(\"Start cleanup_data\")\n",
    "    for column in data.columns:\n",
    "        if data_frame[column].isnull().sum() > 0:\n",
    "            print(column)\n",
    "            data_frame[column].fillna(data_frame[column].mode().iloc[0], inplace=True)\n",
    "    #data_frame = data_frame.fillna(data_frame.mean())\n",
    "    #data_frame = data_frame.fillna(0)\n",
    "    return data_frame"
   ]
  },
  {
   "cell_type": "code",
   "execution_count": 4,
   "metadata": {},
   "outputs": [],
   "source": [
    "#def get_X(dataframe):\n",
    "#    print(\"start get_X\")\n",
    "#    X = dataframe.drop(\"HasDetections\", axis=1)\n",
    "#    X = pd.get_dummies(X, \n",
    "#                   columns=[\"MachineIdentifier\", \"ProductName\", \"EngineVersion\", \"AppVersion\", \"AvSigVersion\", \"Platform\", \"Processor\", \"OsVer\", \"OsPlatformSubRelease\", \"OsBuildLab\", \n",
    "#                            \"SkuEdition\", \"PuaMode\", \"SmartScreen\", \"Census_MDC2FormFactor\", \"Census_DeviceFamily\", \"Census_ProcessorClass\", \"Census_PrimaryDiskTypeName\", \"Census_ChassisTypeName\", \"Census_PowerPlatformRoleName\", \n",
    "#                            \"Census_InternalBatteryType\", \"Census_OSVersion\", \"Census_OSArchitecture\", \"Census_OSBranch\", \"Census_OSEdition\", \"Census_OSSkuName\", \"Census_OSInstallTypeName\", \n",
    "#                            \"Census_OSWUAutoUpdateOptionsName\", \"Census_GenuineStateName\", \"Census_ActivationChannel\", \"Census_FlightRing\"], drop_first=True)\n",
    "#    return X\n",
    "\n",
    "def get_X(dataframe): \n",
    "    print(\"start get_X\")\n",
    "    print(dataframe.shape)\n",
    "    dataframe = dataframe[['ProductName','CountryIdentifier','CityIdentifier', 'Platform', 'Processor', 'SkuEdition', 'IsProtected',\n",
    "                          'Firewall','Census_MDC2FormFactor', 'Census_ProcessorCoreCount', 'Census_PrimaryDiskTotalCapacity',\n",
    "                          'Census_PrimaryDiskTypeName', 'Census_TotalPhysicalRAM', 'Census_InternalBatteryType','Census_OSArchitecture',\n",
    "                          'Census_OSInstallLanguageIdentifier','Wdft_IsGamer']]\n",
    "    \n",
    "    columns = ['ProductName','CountryIdentifier','Platform','Processor', 'SkuEdition', 'IsProtected',\n",
    "                          'Firewall','Census_MDC2FormFactor', 'Census_ProcessorCoreCount',\n",
    "                          'Census_PrimaryDiskTypeName', 'Census_InternalBatteryType','Census_OSArchitecture',\n",
    "                          'Census_OSInstallLanguageIdentifier','Wdft_IsGamer']\n",
    "    \n",
    "    for column in columns:\n",
    "        print(column, dataframe[column].dtype, len(dataframe[column].unique()))\n",
    "        print(dataframe.shape)\n",
    "        dataframe = pd.get_dummies(dataframe, columns=[column], drop_first=True)\n",
    "        print(dataframe.shape)\n",
    "    \n",
    "    return dataframe"
   ]
  },
  {
   "cell_type": "code",
   "execution_count": 5,
   "metadata": {},
   "outputs": [
    {
     "name": "stdout",
     "output_type": "stream",
     "text": [
      "(8921483, 83)\n"
     ]
    }
   ],
   "source": [
    "#df_chunk = pd.read_csv('Resources/train.csv', chunksize=500000)\n",
    "data = pd.read_csv('Resources/train.csv.gz', compression=\"gzip\")\n",
    "#data = transform_data(None, df_chunk)\n",
    "print(data.shape)"
   ]
  },
  {
   "cell_type": "code",
   "execution_count": 6,
   "metadata": {},
   "outputs": [
    {
     "name": "stdout",
     "output_type": "stream",
     "text": [
      "(8921483, 1)\n"
     ]
    }
   ],
   "source": [
    "y = data[[\"HasDetections\"]]\n",
    "print(y.shape)"
   ]
  },
  {
   "cell_type": "code",
   "execution_count": 7,
   "metadata": {},
   "outputs": [
    {
     "name": "stdout",
     "output_type": "stream",
     "text": [
      "start get_X\n",
      "(8921483, 83)\n",
      "ProductName object 6\n",
      "(8921483, 17)\n",
      "(8921483, 21)\n",
      "CountryIdentifier int64 222\n",
      "(8921483, 21)\n",
      "(8921483, 241)\n",
      "Platform object 4\n",
      "(8921483, 241)\n",
      "(8921483, 243)\n",
      "Processor object 3\n",
      "(8921483, 243)\n",
      "(8921483, 244)\n",
      "SkuEdition object 8\n",
      "(8921483, 244)\n",
      "(8921483, 250)\n",
      "IsProtected float64 3\n",
      "(8921483, 250)\n",
      "(8921483, 250)\n",
      "Firewall float64 3\n",
      "(8921483, 250)\n",
      "(8921483, 250)\n",
      "Census_MDC2FormFactor object 13\n",
      "(8921483, 250)\n",
      "(8921483, 261)\n",
      "Census_ProcessorCoreCount float64 46\n",
      "(8921483, 261)\n",
      "(8921483, 304)\n",
      "Census_PrimaryDiskTypeName object 5\n",
      "(8921483, 304)\n",
      "(8921483, 306)\n",
      "Census_InternalBatteryType object 79\n",
      "(8921483, 306)\n",
      "(8921483, 382)\n",
      "Census_OSArchitecture object 3\n",
      "(8921483, 382)\n",
      "(8921483, 383)\n",
      "Census_OSInstallLanguageIdentifier float64 40\n",
      "(8921483, 383)\n",
      "(8921483, 420)\n",
      "Wdft_IsGamer float64 3\n",
      "(8921483, 420)\n",
      "(8921483, 420)\n"
     ]
    },
    {
     "data": {
      "text/html": [
       "<div>\n",
       "<style scoped>\n",
       "    .dataframe tbody tr th:only-of-type {\n",
       "        vertical-align: middle;\n",
       "    }\n",
       "\n",
       "    .dataframe tbody tr th {\n",
       "        vertical-align: top;\n",
       "    }\n",
       "\n",
       "    .dataframe thead th {\n",
       "        text-align: right;\n",
       "    }\n",
       "</style>\n",
       "<table border=\"1\" class=\"dataframe\">\n",
       "  <thead>\n",
       "    <tr style=\"text-align: right;\">\n",
       "      <th></th>\n",
       "      <th>CityIdentifier</th>\n",
       "      <th>Census_PrimaryDiskTotalCapacity</th>\n",
       "      <th>Census_TotalPhysicalRAM</th>\n",
       "      <th>ProductName_mse</th>\n",
       "      <th>ProductName_mseprerelease</th>\n",
       "      <th>ProductName_scep</th>\n",
       "      <th>ProductName_win8defender</th>\n",
       "      <th>ProductName_windowsintune</th>\n",
       "      <th>CountryIdentifier_2</th>\n",
       "      <th>CountryIdentifier_3</th>\n",
       "      <th>...</th>\n",
       "      <th>Census_OSInstallLanguageIdentifier_31.0</th>\n",
       "      <th>Census_OSInstallLanguageIdentifier_32.0</th>\n",
       "      <th>Census_OSInstallLanguageIdentifier_33.0</th>\n",
       "      <th>Census_OSInstallLanguageIdentifier_34.0</th>\n",
       "      <th>Census_OSInstallLanguageIdentifier_35.0</th>\n",
       "      <th>Census_OSInstallLanguageIdentifier_36.0</th>\n",
       "      <th>Census_OSInstallLanguageIdentifier_37.0</th>\n",
       "      <th>Census_OSInstallLanguageIdentifier_38.0</th>\n",
       "      <th>Census_OSInstallLanguageIdentifier_39.0</th>\n",
       "      <th>Wdft_IsGamer_1.0</th>\n",
       "    </tr>\n",
       "  </thead>\n",
       "  <tbody>\n",
       "    <tr>\n",
       "      <th>0</th>\n",
       "      <td>128035.0</td>\n",
       "      <td>476940.0</td>\n",
       "      <td>4096.0</td>\n",
       "      <td>0</td>\n",
       "      <td>0</td>\n",
       "      <td>0</td>\n",
       "      <td>1</td>\n",
       "      <td>0</td>\n",
       "      <td>0</td>\n",
       "      <td>0</td>\n",
       "      <td>...</td>\n",
       "      <td>0</td>\n",
       "      <td>0</td>\n",
       "      <td>0</td>\n",
       "      <td>0</td>\n",
       "      <td>0</td>\n",
       "      <td>0</td>\n",
       "      <td>0</td>\n",
       "      <td>0</td>\n",
       "      <td>0</td>\n",
       "      <td>0</td>\n",
       "    </tr>\n",
       "    <tr>\n",
       "      <th>1</th>\n",
       "      <td>1482.0</td>\n",
       "      <td>476940.0</td>\n",
       "      <td>4096.0</td>\n",
       "      <td>0</td>\n",
       "      <td>0</td>\n",
       "      <td>0</td>\n",
       "      <td>1</td>\n",
       "      <td>0</td>\n",
       "      <td>0</td>\n",
       "      <td>0</td>\n",
       "      <td>...</td>\n",
       "      <td>0</td>\n",
       "      <td>0</td>\n",
       "      <td>0</td>\n",
       "      <td>0</td>\n",
       "      <td>0</td>\n",
       "      <td>0</td>\n",
       "      <td>0</td>\n",
       "      <td>0</td>\n",
       "      <td>0</td>\n",
       "      <td>0</td>\n",
       "    </tr>\n",
       "    <tr>\n",
       "      <th>2</th>\n",
       "      <td>153579.0</td>\n",
       "      <td>114473.0</td>\n",
       "      <td>4096.0</td>\n",
       "      <td>0</td>\n",
       "      <td>0</td>\n",
       "      <td>0</td>\n",
       "      <td>1</td>\n",
       "      <td>0</td>\n",
       "      <td>0</td>\n",
       "      <td>0</td>\n",
       "      <td>...</td>\n",
       "      <td>0</td>\n",
       "      <td>0</td>\n",
       "      <td>0</td>\n",
       "      <td>0</td>\n",
       "      <td>0</td>\n",
       "      <td>0</td>\n",
       "      <td>0</td>\n",
       "      <td>0</td>\n",
       "      <td>0</td>\n",
       "      <td>0</td>\n",
       "    </tr>\n",
       "    <tr>\n",
       "      <th>3</th>\n",
       "      <td>20710.0</td>\n",
       "      <td>238475.0</td>\n",
       "      <td>4096.0</td>\n",
       "      <td>0</td>\n",
       "      <td>0</td>\n",
       "      <td>0</td>\n",
       "      <td>1</td>\n",
       "      <td>0</td>\n",
       "      <td>0</td>\n",
       "      <td>0</td>\n",
       "      <td>...</td>\n",
       "      <td>0</td>\n",
       "      <td>0</td>\n",
       "      <td>0</td>\n",
       "      <td>0</td>\n",
       "      <td>0</td>\n",
       "      <td>0</td>\n",
       "      <td>0</td>\n",
       "      <td>0</td>\n",
       "      <td>0</td>\n",
       "      <td>0</td>\n",
       "    </tr>\n",
       "    <tr>\n",
       "      <th>4</th>\n",
       "      <td>37376.0</td>\n",
       "      <td>476940.0</td>\n",
       "      <td>6144.0</td>\n",
       "      <td>0</td>\n",
       "      <td>0</td>\n",
       "      <td>0</td>\n",
       "      <td>1</td>\n",
       "      <td>0</td>\n",
       "      <td>0</td>\n",
       "      <td>0</td>\n",
       "      <td>...</td>\n",
       "      <td>0</td>\n",
       "      <td>0</td>\n",
       "      <td>0</td>\n",
       "      <td>0</td>\n",
       "      <td>0</td>\n",
       "      <td>0</td>\n",
       "      <td>0</td>\n",
       "      <td>0</td>\n",
       "      <td>0</td>\n",
       "      <td>0</td>\n",
       "    </tr>\n",
       "  </tbody>\n",
       "</table>\n",
       "<p>5 rows × 420 columns</p>\n",
       "</div>"
      ],
      "text/plain": [
       "   CityIdentifier  Census_PrimaryDiskTotalCapacity  Census_TotalPhysicalRAM  \\\n",
       "0        128035.0                         476940.0                   4096.0   \n",
       "1          1482.0                         476940.0                   4096.0   \n",
       "2        153579.0                         114473.0                   4096.0   \n",
       "3         20710.0                         238475.0                   4096.0   \n",
       "4         37376.0                         476940.0                   6144.0   \n",
       "\n",
       "   ProductName_mse  ProductName_mseprerelease  ProductName_scep  \\\n",
       "0                0                          0                 0   \n",
       "1                0                          0                 0   \n",
       "2                0                          0                 0   \n",
       "3                0                          0                 0   \n",
       "4                0                          0                 0   \n",
       "\n",
       "   ProductName_win8defender  ProductName_windowsintune  CountryIdentifier_2  \\\n",
       "0                         1                          0                    0   \n",
       "1                         1                          0                    0   \n",
       "2                         1                          0                    0   \n",
       "3                         1                          0                    0   \n",
       "4                         1                          0                    0   \n",
       "\n",
       "   CountryIdentifier_3        ...         \\\n",
       "0                    0        ...          \n",
       "1                    0        ...          \n",
       "2                    0        ...          \n",
       "3                    0        ...          \n",
       "4                    0        ...          \n",
       "\n",
       "   Census_OSInstallLanguageIdentifier_31.0  \\\n",
       "0                                        0   \n",
       "1                                        0   \n",
       "2                                        0   \n",
       "3                                        0   \n",
       "4                                        0   \n",
       "\n",
       "   Census_OSInstallLanguageIdentifier_32.0  \\\n",
       "0                                        0   \n",
       "1                                        0   \n",
       "2                                        0   \n",
       "3                                        0   \n",
       "4                                        0   \n",
       "\n",
       "   Census_OSInstallLanguageIdentifier_33.0  \\\n",
       "0                                        0   \n",
       "1                                        0   \n",
       "2                                        0   \n",
       "3                                        0   \n",
       "4                                        0   \n",
       "\n",
       "   Census_OSInstallLanguageIdentifier_34.0  \\\n",
       "0                                        0   \n",
       "1                                        0   \n",
       "2                                        0   \n",
       "3                                        0   \n",
       "4                                        0   \n",
       "\n",
       "   Census_OSInstallLanguageIdentifier_35.0  \\\n",
       "0                                        0   \n",
       "1                                        0   \n",
       "2                                        0   \n",
       "3                                        0   \n",
       "4                                        0   \n",
       "\n",
       "   Census_OSInstallLanguageIdentifier_36.0  \\\n",
       "0                                        0   \n",
       "1                                        0   \n",
       "2                                        0   \n",
       "3                                        0   \n",
       "4                                        0   \n",
       "\n",
       "   Census_OSInstallLanguageIdentifier_37.0  \\\n",
       "0                                        0   \n",
       "1                                        0   \n",
       "2                                        0   \n",
       "3                                        0   \n",
       "4                                        0   \n",
       "\n",
       "   Census_OSInstallLanguageIdentifier_38.0  \\\n",
       "0                                        0   \n",
       "1                                        0   \n",
       "2                                        0   \n",
       "3                                        0   \n",
       "4                                        0   \n",
       "\n",
       "   Census_OSInstallLanguageIdentifier_39.0  Wdft_IsGamer_1.0  \n",
       "0                                        0                 0  \n",
       "1                                        0                 0  \n",
       "2                                        0                 0  \n",
       "3                                        0                 0  \n",
       "4                                        0                 0  \n",
       "\n",
       "[5 rows x 420 columns]"
      ]
     },
     "execution_count": 7,
     "metadata": {},
     "output_type": "execute_result"
    }
   ],
   "source": [
    "data = get_X(data)\n",
    "data.head()"
   ]
  },
  {
   "cell_type": "code",
   "execution_count": 8,
   "metadata": {},
   "outputs": [
    {
     "name": "stdout",
     "output_type": "stream",
     "text": [
      "Start cleanup_data\n",
      "CityIdentifier\n",
      "Census_PrimaryDiskTotalCapacity\n",
      "Census_TotalPhysicalRAM\n"
     ]
    }
   ],
   "source": [
    "data = cleanup_data(data)"
   ]
  },
  {
   "cell_type": "code",
   "execution_count": 9,
   "metadata": {},
   "outputs": [
    {
     "name": "stdout",
     "output_type": "stream",
     "text": [
      "(8921483, 420) (8921483, 1)\n"
     ]
    }
   ],
   "source": [
    "print(data.shape, y.shape)"
   ]
  },
  {
   "cell_type": "code",
   "execution_count": 10,
   "metadata": {},
   "outputs": [
    {
     "name": "stdout",
     "output_type": "stream",
     "text": [
      "(6691112, 420) (6691112, 1)\n"
     ]
    }
   ],
   "source": [
    "from sklearn.model_selection import train_test_split\n",
    "X_train, X_test, y_train, y_test = train_test_split(data, y, random_state=1, stratify=y)\n",
    "print(X_train.shape, y_train.shape)"
   ]
  },
  {
   "cell_type": "code",
   "execution_count": 11,
   "metadata": {},
   "outputs": [
    {
     "name": "stdout",
     "output_type": "stream",
     "text": [
      "(6691112, 420) (6691112, 1)\n"
     ]
    }
   ],
   "source": [
    "print(X_train.shape, y_train.shape)"
   ]
  },
  {
   "cell_type": "code",
   "execution_count": 12,
   "metadata": {},
   "outputs": [
    {
     "data": {
      "text/plain": [
       "LogisticRegression(C=1.0, class_weight=None, dual=False, fit_intercept=True,\n",
       "          intercept_scaling=1, max_iter=100, multi_class='ovr', n_jobs=1,\n",
       "          penalty='l2', random_state=None, solver='liblinear', tol=0.0001,\n",
       "          verbose=0, warm_start=False)"
      ]
     },
     "execution_count": 12,
     "metadata": {},
     "output_type": "execute_result"
    }
   ],
   "source": [
    "from sklearn.linear_model import LogisticRegression\n",
    "classifier = LogisticRegression()\n",
    "classifier"
   ]
  },
  {
   "cell_type": "code",
   "execution_count": 13,
   "metadata": {},
   "outputs": [
    {
     "data": {
      "text/plain": [
       "LogisticRegression(C=1.0, class_weight=None, dual=False, fit_intercept=True,\n",
       "          intercept_scaling=1, max_iter=100, multi_class='ovr', n_jobs=1,\n",
       "          penalty='l2', random_state=None, solver='liblinear', tol=0.0001,\n",
       "          verbose=0, warm_start=False)"
      ]
     },
     "execution_count": 13,
     "metadata": {},
     "output_type": "execute_result"
    }
   ],
   "source": [
    "classifier.fit(X_train, y_train)"
   ]
  },
  {
   "cell_type": "code",
   "execution_count": 19,
   "metadata": {},
   "outputs": [],
   "source": [
    "predict_train = classifier.predict(X_train)\n",
    "predict_test = classifier.predict(X_test)"
   ]
  },
  {
   "cell_type": "code",
   "execution_count": 20,
   "metadata": {},
   "outputs": [
    {
     "name": "stdout",
     "output_type": "stream",
     "text": [
      "             precision    recall  f1-score   support\n",
      "\n",
      "          0       0.53      0.45      0.49   3346943\n",
      "          1       0.52      0.60      0.56   3344169\n",
      "\n",
      "avg / total       0.52      0.52      0.52   6691112\n",
      "\n",
      "             precision    recall  f1-score   support\n",
      "\n",
      "          0       0.53      0.45      0.49   1115648\n",
      "          1       0.52      0.60      0.56   1114723\n",
      "\n",
      "avg / total       0.52      0.52      0.52   2230371\n",
      "\n"
     ]
    }
   ],
   "source": [
    "from sklearn.metrics import classification_report\n",
    "print(classification_report(y_train, predict_train))\n",
    "print(classification_report(y_test, predict_test))"
   ]
  },
  {
   "cell_type": "code",
   "execution_count": 12,
   "metadata": {},
   "outputs": [
    {
     "data": {
      "text/plain": [
       "420"
      ]
     },
     "execution_count": 12,
     "metadata": {},
     "output_type": "execute_result"
    }
   ],
   "source": [
    "X_train.shape[1]"
   ]
  },
  {
   "cell_type": "code",
   "execution_count": 13,
   "metadata": {},
   "outputs": [
    {
     "data": {
      "text/plain": [
       "7433569    0\n",
       "4610591    0\n",
       "8339454    1\n",
       "5962255    1\n",
       "7407408    0\n",
       "Name: HasDetections, dtype: int64"
      ]
     },
     "execution_count": 13,
     "metadata": {},
     "output_type": "execute_result"
    }
   ],
   "source": [
    "y_train[\"HasDetections\"].head()"
   ]
  },
  {
   "cell_type": "code",
   "execution_count": 14,
   "metadata": {},
   "outputs": [
    {
     "data": {
      "text/html": [
       "<div>\n",
       "<style scoped>\n",
       "    .dataframe tbody tr th:only-of-type {\n",
       "        vertical-align: middle;\n",
       "    }\n",
       "\n",
       "    .dataframe tbody tr th {\n",
       "        vertical-align: top;\n",
       "    }\n",
       "\n",
       "    .dataframe thead th {\n",
       "        text-align: right;\n",
       "    }\n",
       "</style>\n",
       "<table border=\"1\" class=\"dataframe\">\n",
       "  <thead>\n",
       "    <tr style=\"text-align: right;\">\n",
       "      <th></th>\n",
       "      <th>HasDetections</th>\n",
       "    </tr>\n",
       "  </thead>\n",
       "  <tbody>\n",
       "    <tr>\n",
       "      <th>7433569</th>\n",
       "      <td>False</td>\n",
       "    </tr>\n",
       "    <tr>\n",
       "      <th>4610591</th>\n",
       "      <td>False</td>\n",
       "    </tr>\n",
       "    <tr>\n",
       "      <th>8339454</th>\n",
       "      <td>True</td>\n",
       "    </tr>\n",
       "    <tr>\n",
       "      <th>5962255</th>\n",
       "      <td>True</td>\n",
       "    </tr>\n",
       "    <tr>\n",
       "      <th>7407408</th>\n",
       "      <td>False</td>\n",
       "    </tr>\n",
       "  </tbody>\n",
       "</table>\n",
       "</div>"
      ],
      "text/plain": [
       "        HasDetections\n",
       "7433569         False\n",
       "4610591         False\n",
       "8339454          True\n",
       "5962255          True\n",
       "7407408         False"
      ]
     },
     "execution_count": 14,
     "metadata": {},
     "output_type": "execute_result"
    }
   ],
   "source": [
    "y_train[\"HasDetections\"] = y_train[\"HasDetections\"].apply(lambda x: \"True\" if x==1 else \"False\")\n",
    "y_train.head()"
   ]
  },
  {
   "cell_type": "code",
   "execution_count": 15,
   "metadata": {},
   "outputs": [
    {
     "data": {
      "text/html": [
       "<div>\n",
       "<style scoped>\n",
       "    .dataframe tbody tr th:only-of-type {\n",
       "        vertical-align: middle;\n",
       "    }\n",
       "\n",
       "    .dataframe tbody tr th {\n",
       "        vertical-align: top;\n",
       "    }\n",
       "\n",
       "    .dataframe thead th {\n",
       "        text-align: right;\n",
       "    }\n",
       "</style>\n",
       "<table border=\"1\" class=\"dataframe\">\n",
       "  <thead>\n",
       "    <tr style=\"text-align: right;\">\n",
       "      <th></th>\n",
       "      <th>HasDetections_False</th>\n",
       "      <th>HasDetections_True</th>\n",
       "    </tr>\n",
       "  </thead>\n",
       "  <tbody>\n",
       "    <tr>\n",
       "      <th>7433569</th>\n",
       "      <td>1</td>\n",
       "      <td>0</td>\n",
       "    </tr>\n",
       "    <tr>\n",
       "      <th>4610591</th>\n",
       "      <td>1</td>\n",
       "      <td>0</td>\n",
       "    </tr>\n",
       "    <tr>\n",
       "      <th>8339454</th>\n",
       "      <td>0</td>\n",
       "      <td>1</td>\n",
       "    </tr>\n",
       "    <tr>\n",
       "      <th>5962255</th>\n",
       "      <td>0</td>\n",
       "      <td>1</td>\n",
       "    </tr>\n",
       "    <tr>\n",
       "      <th>7407408</th>\n",
       "      <td>1</td>\n",
       "      <td>0</td>\n",
       "    </tr>\n",
       "  </tbody>\n",
       "</table>\n",
       "</div>"
      ],
      "text/plain": [
       "         HasDetections_False  HasDetections_True\n",
       "7433569                    1                   0\n",
       "4610591                    1                   0\n",
       "8339454                    0                   1\n",
       "5962255                    0                   1\n",
       "7407408                    1                   0"
      ]
     },
     "execution_count": 15,
     "metadata": {},
     "output_type": "execute_result"
    }
   ],
   "source": [
    "Y_train = pd.get_dummies(y_train)\n",
    "Y_train.head()"
   ]
  },
  {
   "cell_type": "code",
   "execution_count": 16,
   "metadata": {},
   "outputs": [
    {
     "data": {
      "text/plain": [
       "3164226    1\n",
       "556644     1\n",
       "7764601    0\n",
       "3856066    0\n",
       "8261251    0\n",
       "Name: HasDetections, dtype: int64"
      ]
     },
     "execution_count": 16,
     "metadata": {},
     "output_type": "execute_result"
    }
   ],
   "source": [
    "y_test[\"HasDetections\"].head()"
   ]
  },
  {
   "cell_type": "code",
   "execution_count": 17,
   "metadata": {},
   "outputs": [
    {
     "data": {
      "text/html": [
       "<div>\n",
       "<style scoped>\n",
       "    .dataframe tbody tr th:only-of-type {\n",
       "        vertical-align: middle;\n",
       "    }\n",
       "\n",
       "    .dataframe tbody tr th {\n",
       "        vertical-align: top;\n",
       "    }\n",
       "\n",
       "    .dataframe thead th {\n",
       "        text-align: right;\n",
       "    }\n",
       "</style>\n",
       "<table border=\"1\" class=\"dataframe\">\n",
       "  <thead>\n",
       "    <tr style=\"text-align: right;\">\n",
       "      <th></th>\n",
       "      <th>HasDetections</th>\n",
       "    </tr>\n",
       "  </thead>\n",
       "  <tbody>\n",
       "    <tr>\n",
       "      <th>3164226</th>\n",
       "      <td>True</td>\n",
       "    </tr>\n",
       "    <tr>\n",
       "      <th>556644</th>\n",
       "      <td>True</td>\n",
       "    </tr>\n",
       "    <tr>\n",
       "      <th>7764601</th>\n",
       "      <td>False</td>\n",
       "    </tr>\n",
       "    <tr>\n",
       "      <th>3856066</th>\n",
       "      <td>False</td>\n",
       "    </tr>\n",
       "    <tr>\n",
       "      <th>8261251</th>\n",
       "      <td>False</td>\n",
       "    </tr>\n",
       "  </tbody>\n",
       "</table>\n",
       "</div>"
      ],
      "text/plain": [
       "        HasDetections\n",
       "3164226          True\n",
       "556644           True\n",
       "7764601         False\n",
       "3856066         False\n",
       "8261251         False"
      ]
     },
     "execution_count": 17,
     "metadata": {},
     "output_type": "execute_result"
    }
   ],
   "source": [
    "y_test[\"HasDetections\"] = y_test[\"HasDetections\"].apply(lambda x: \"True\" if x==1 else \"False\")\n",
    "y_test.head()"
   ]
  },
  {
   "cell_type": "code",
   "execution_count": 18,
   "metadata": {},
   "outputs": [
    {
     "data": {
      "text/html": [
       "<div>\n",
       "<style scoped>\n",
       "    .dataframe tbody tr th:only-of-type {\n",
       "        vertical-align: middle;\n",
       "    }\n",
       "\n",
       "    .dataframe tbody tr th {\n",
       "        vertical-align: top;\n",
       "    }\n",
       "\n",
       "    .dataframe thead th {\n",
       "        text-align: right;\n",
       "    }\n",
       "</style>\n",
       "<table border=\"1\" class=\"dataframe\">\n",
       "  <thead>\n",
       "    <tr style=\"text-align: right;\">\n",
       "      <th></th>\n",
       "      <th>HasDetections_False</th>\n",
       "      <th>HasDetections_True</th>\n",
       "    </tr>\n",
       "  </thead>\n",
       "  <tbody>\n",
       "    <tr>\n",
       "      <th>3164226</th>\n",
       "      <td>0</td>\n",
       "      <td>1</td>\n",
       "    </tr>\n",
       "    <tr>\n",
       "      <th>556644</th>\n",
       "      <td>0</td>\n",
       "      <td>1</td>\n",
       "    </tr>\n",
       "    <tr>\n",
       "      <th>7764601</th>\n",
       "      <td>1</td>\n",
       "      <td>0</td>\n",
       "    </tr>\n",
       "    <tr>\n",
       "      <th>3856066</th>\n",
       "      <td>1</td>\n",
       "      <td>0</td>\n",
       "    </tr>\n",
       "    <tr>\n",
       "      <th>8261251</th>\n",
       "      <td>1</td>\n",
       "      <td>0</td>\n",
       "    </tr>\n",
       "  </tbody>\n",
       "</table>\n",
       "</div>"
      ],
      "text/plain": [
       "         HasDetections_False  HasDetections_True\n",
       "3164226                    0                   1\n",
       "556644                     0                   1\n",
       "7764601                    1                   0\n",
       "3856066                    1                   0\n",
       "8261251                    1                   0"
      ]
     },
     "execution_count": 18,
     "metadata": {},
     "output_type": "execute_result"
    }
   ],
   "source": [
    "Y_test = pd.get_dummies(y_test)\n",
    "Y_test.head()"
   ]
  },
  {
   "cell_type": "code",
   "execution_count": 19,
   "metadata": {},
   "outputs": [
    {
     "name": "stderr",
     "output_type": "stream",
     "text": [
      "Using TensorFlow backend.\n"
     ]
    }
   ],
   "source": [
    "from keras.models import Sequential\n",
    "from keras.layers import Dense, Activation\n",
    "output_dim = nb_classes = 2\n",
    "input_dim = X_train.shape[1]\n",
    "model = Sequential()\n",
    "model.add(Dense(output_dim, input_dim=input_dim, activation=\"softmax\"))\n",
    "batch_size = 256\n",
    "nb_epoch = 10"
   ]
  },
  {
   "cell_type": "code",
   "execution_count": 20,
   "metadata": {},
   "outputs": [
    {
     "name": "stdout",
     "output_type": "stream",
     "text": [
      "_________________________________________________________________\n",
      "Layer (type)                 Output Shape              Param #   \n",
      "=================================================================\n",
      "dense_1 (Dense)              (None, 2)                 842       \n",
      "=================================================================\n",
      "Total params: 842\n",
      "Trainable params: 842\n",
      "Non-trainable params: 0\n",
      "_________________________________________________________________\n"
     ]
    }
   ],
   "source": [
    "model.summary()"
   ]
  },
  {
   "cell_type": "code",
   "execution_count": null,
   "metadata": {},
   "outputs": [
    {
     "name": "stdout",
     "output_type": "stream",
     "text": [
      "Train on 6691112 samples, validate on 2230371 samples\n",
      "Epoch 1/10\n",
      "6691112/6691112 [==============================] - 184s 27us/step - loss: 8.0564 - acc: 0.5002 - val_loss: 8.0571 - val_acc: 0.5001\n",
      "Epoch 2/10\n",
      "6691112/6691112 [==============================] - 142s 21us/step - loss: 8.0572 - acc: 0.5001 - val_loss: 8.0571 - val_acc: 0.5001\n",
      "Epoch 3/10\n",
      "6691112/6691112 [==============================] - 140s 21us/step - loss: 8.0572 - acc: 0.5001 - val_loss: 8.0571 - val_acc: 0.5001\n",
      "Epoch 4/10\n",
      "6691112/6691112 [==============================] - 141s 21us/step - loss: 8.0572 - acc: 0.5001 - val_loss: 8.0571 - val_acc: 0.5001\n",
      "Epoch 5/10\n",
      "6691112/6691112 [==============================] - 140s 21us/step - loss: 8.0572 - acc: 0.5001 - val_loss: 8.0571 - val_acc: 0.5001\n",
      "Epoch 6/10\n",
      "1470464/6691112 [=====>........................] - ETA: 1:40 - loss: 8.0521 - acc: 0.5004"
     ]
    }
   ],
   "source": [
    "model.compile(optimizer=\"sgd\", loss=\"categorical_crossentropy\", metrics=[\"accuracy\"])\n",
    "history = model.fit(X_train, Y_train, batch_size=batch_size, nb_epoch=nb_epoch, verbose=1, validation_data=(X_test, Y_test))"
   ]
  },
  {
   "cell_type": "code",
   "execution_count": 21,
   "metadata": {},
   "outputs": [],
   "source": [
    "import sys\n",
    "default_stdout = sys.stdout\n",
    "sys.stdout = open('keras_training.txt', 'w')\n",
    "\n",
    "model.compile(optimizer=\"sgd\", loss=\"categorical_crossentropy\", metrics=[\"accuracy\"])\n",
    "history = model.fit(X_train, Y_train, batch_size=batch_size, nb_epoch=nb_epoch, verbose=2, validation_data=(X_test, Y_test))\n",
    "\n",
    "sys.stdout = sys.__stdout__\n",
    "sys.stdout = default_stdout"
   ]
  },
  {
   "cell_type": "code",
   "execution_count": 22,
   "metadata": {},
   "outputs": [
    {
     "name": "stdout",
     "output_type": "stream",
     "text": [
      "6691112/6691112 [==============================] - 39s 6us/step\n",
      "2230371/2230371 [==============================] - 14s 6us/step\n",
      "Train Loss: 8.055706690459415, Accuracy: 0.5002072899092891\n",
      "Test Loss: 8.05570547968895, Accuracy: 0.5002073646050054\n"
     ]
    }
   ],
   "source": [
    "train_model_loss, train_model_accuracy = model.evaluate(X_train, Y_train, batch_size=256)\n",
    "test_model_loss, test_model_accuracy = model.evaluate(X_test, Y_test, batch_size=256)\n",
    "#print(f\"Training Data Score: {training_r2}\")\n",
    "#print(f\"Testing Data Score: {test_r2}\")\n",
    "print(f\"Train Loss: {train_model_loss}, Accuracy: {train_model_accuracy}\")\n",
    "print(f\"Test Loss: {test_model_loss}, Accuracy: {test_model_accuracy}\")"
   ]
  },
  {
   "cell_type": "code",
   "execution_count": 23,
   "metadata": {},
   "outputs": [],
   "source": [
    "predict_train = model.predict(X_train)\n",
    "predict_test = model.predict(X_test)"
   ]
  },
  {
   "cell_type": "code",
   "execution_count": 24,
   "metadata": {},
   "outputs": [
    {
     "name": "stdout",
     "output_type": "stream",
     "text": [
      "(6691112, 2) (6691112, 2)\n",
      "(2230371, 2) (2230371, 2)\n"
     ]
    }
   ],
   "source": [
    "print(predict_train.shape, Y_train.shape)\n",
    "print(predict_test.shape, Y_test.shape)"
   ]
  },
  {
   "cell_type": "code",
   "execution_count": 40,
   "metadata": {},
   "outputs": [],
   "source": [
    "#model.model.save(\"secuencial_trained_2.h5\")"
   ]
  },
  {
   "cell_type": "code",
   "execution_count": 41,
   "metadata": {},
   "outputs": [],
   "source": [
    "from keras.models import load_model\n",
    "model_load = load_model(\"secuencial_trained_2.h5\")"
   ]
  },
  {
   "cell_type": "code",
   "execution_count": 42,
   "metadata": {},
   "outputs": [
    {
     "name": "stdout",
     "output_type": "stream",
     "text": [
      "Loss: 8.062390107589358, Accuracy: 0.4997926353956627\n"
     ]
    }
   ],
   "source": [
    "model_loss, model_accuracy = model_load.evaluate(X_test, Y_test, verbose=2)\n",
    "print(f\"Loss: {model_loss}, Accuracy: {model_accuracy}\")"
   ]
  },
  {
   "cell_type": "code",
   "execution_count": null,
   "metadata": {},
   "outputs": [],
   "source": [
    "#plt.scatter(predict_train, predict_train - Y_train, c=\"blue\", label=\"Training Data\")\n",
    "plt.scatter(predict_train[0], c=\"blue\", label=\"Training Data\")\n",
    "#plt.scatter(predict_test, predict_test - Y_test, c=\"orange\", label=\"Testing Data\")\n",
    "#plt.scatter(predict_test, c=\"orange\", label=\"Testing Data\")\n",
    "plt.legend()\n",
    "#plt.hlines(y=0, xmin=y_test.min(), xmax=y_test.max())\n",
    "plt.title(\"Residual Plot\")\n",
    "plt.show()"
   ]
  }
 ],
 "metadata": {
  "kernelspec": {
   "display_name": "Python 3",
   "language": "python",
   "name": "python3"
  },
  "language_info": {
   "codemirror_mode": {
    "name": "ipython",
    "version": 3
   },
   "file_extension": ".py",
   "mimetype": "text/x-python",
   "name": "python",
   "nbconvert_exporter": "python",
   "pygments_lexer": "ipython3",
   "version": "3.6.5"
  }
 },
 "nbformat": 4,
 "nbformat_minor": 2
}

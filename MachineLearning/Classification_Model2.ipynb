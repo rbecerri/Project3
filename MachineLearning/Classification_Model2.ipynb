{
 "cells": [
  {
   "cell_type": "markdown",
   "metadata": {},
   "source": [
    "# 2nd Model\n",
    "\n",
    "The process is:\n",
    "1. Clean up data\n",
    "    The process is remove Objects features (Categorical Values) that we could convert\n",
    "    Note. The features were removed since the get_dummy function failed converting values\n",
    "    Removed Null Values with the MODE values\n",
    "2. Create Model\n",
    "    - This notebook contains Keras Sequencial Model (TensorFlow)\n",
    "3. Train\n",
    "2. Predict (Stats)"
   ]
  },
  {
   "cell_type": "code",
   "execution_count": 5,
   "metadata": {},
   "outputs": [],
   "source": [
    "import warnings\n",
    "warnings.simplefilter('ignore')\n",
    "\n",
    "import matplotlib.pyplot as plt\n",
    "import pandas as pd\n",
    "import numpy as np"
   ]
  },
  {
   "cell_type": "code",
   "execution_count": 6,
   "metadata": {},
   "outputs": [],
   "source": [
    "#chunksize returns as a loop through the dataset. \n",
    "def transform_data(method, df_chunk):\n",
    "    chunk_final = pd.DataFrame()\n",
    "    if method is None:\n",
    "        for chunk in df_chunk:\n",
    "            chunk_final = chunk_final.append(chunk)\n",
    "    else:\n",
    "        if isinstance(df_chunk, pd.io.parsers.TextFileReader):\n",
    "            for chunk in df_chunk:\n",
    "                chunk_mod = method(chunk)\n",
    "                chunk_final = chunk_final.append(chunk_mod)\n",
    "        if isinstance(df_chunk, list):\n",
    "            for chunk in df_chunk:\n",
    "                chunk_mod = method(chunk)\n",
    "                chunk_final = chunk_final.append(chunk_mod)\n",
    "    return chunk_final"
   ]
  },
  {
   "cell_type": "code",
   "execution_count": 7,
   "metadata": {},
   "outputs": [],
   "source": [
    "def cleanup_data(data_frame):\n",
    "    print(\"Start cleanup_data\")\n",
    "    for column in data.columns:\n",
    "        if data_frame[column].isnull().sum() > 0:\n",
    "            print(column)\n",
    "            data_frame[column].fillna(data_frame[column].mode().iloc[0], inplace=True)\n",
    "    #data_frame = data_frame.fillna(data_frame.mean())\n",
    "    #data_frame = data_frame.fillna(0)\n",
    "    return data_frame"
   ]
  },
  {
   "cell_type": "code",
   "execution_count": 8,
   "metadata": {},
   "outputs": [],
   "source": [
    "#def get_X(dataframe):\n",
    "#    print(\"start get_X\")\n",
    "#    X = dataframe.drop(\"HasDetections\", axis=1)\n",
    "#    X = pd.get_dummies(X, \n",
    "#                   columns=[\"MachineIdentifier\", \"ProductName\", \"EngineVersion\", \"AppVersion\", \"AvSigVersion\", \"Platform\", \"Processor\", \"OsVer\", \"OsPlatformSubRelease\", \"OsBuildLab\", \n",
    "#                            \"SkuEdition\", \"PuaMode\", \"SmartScreen\", \"Census_MDC2FormFactor\", \"Census_DeviceFamily\", \"Census_ProcessorClass\", \"Census_PrimaryDiskTypeName\", \"Census_ChassisTypeName\", \"Census_PowerPlatformRoleName\", \n",
    "#                            \"Census_InternalBatteryType\", \"Census_OSVersion\", \"Census_OSArchitecture\", \"Census_OSBranch\", \"Census_OSEdition\", \"Census_OSSkuName\", \"Census_OSInstallTypeName\", \n",
    "#                            \"Census_OSWUAutoUpdateOptionsName\", \"Census_GenuineStateName\", \"Census_ActivationChannel\", \"Census_FlightRing\"], drop_first=True)\n",
    "#    return X\n",
    "\n",
    "def get_X(dataframe): \n",
    "    print(\"start get_X\")\n",
    "    print(dataframe.shape)\n",
    "    dataframe = dataframe[['Census_SystemVolumeTotalCapacity','Census_OEMModelIdentifier','CityIdentifier','Census_FirmwareVersionIdentifier','Census_InternalBatteryNumberOfCharges',\n",
    "                           'AVProductStatesIdentifier','Census_PrimaryDiskTotalCapacity','Census_OEMNameIdentifier','Census_TotalPhysicalRAM','Census_ProcessorModelIdentifier',\n",
    "                           'Census_InternalPrimaryDisplayResolutionHorizontal','Census_InternalPrimaryDisplayResolutionVertical','Census_InternalPrimaryDiagonalDisplaySizeInInches',\n",
    "                           'Census_FirmwareManufacturerIdentifier','IeVerIdentifier','GeoNameIdentifier','Census_OSBuildRevision','LocaleEnglishNameIdentifier','CountryIdentifier',\n",
    "                           'Census_OSUILocaleIdentifier','OrganizationIdentifier','Census_ProcessorCoreCount','Census_OSInstallLanguageIdentifier','SmartScreen','Wdft_RegionIdentifier',\n",
    "                           'AVProductsInstalled','Wdft_IsGamer','Census_IsSecureBootEnabled']]\n",
    "    \n",
    "    columns = ['SmartScreen']\n",
    "    \n",
    "    for column in columns:\n",
    "        print(column)\n",
    "        print(dataframe.shape)\n",
    "        dataframe = pd.get_dummies(dataframe, columns=[column], drop_first=True)\n",
    "        print(dataframe.shape)\n",
    "    \n",
    "    return dataframe"
   ]
  },
  {
   "cell_type": "code",
   "execution_count": 10,
   "metadata": {},
   "outputs": [
    {
     "name": "stdout",
     "output_type": "stream",
     "text": [
      "(8921483, 83)\n"
     ]
    }
   ],
   "source": [
    "#df_chunk = pd.read_csv('Resources/train.csv', chunksize=500000)\n",
    "data = pd.read_csv('Resources/train.csv.gz', compression=\"gzip\")\n",
    "#data = transform_data(None, df_chunk)\n",
    "print(data.shape)"
   ]
  },
  {
   "cell_type": "code",
   "execution_count": 11,
   "metadata": {},
   "outputs": [
    {
     "name": "stdout",
     "output_type": "stream",
     "text": [
      "(8921483, 1)\n"
     ]
    }
   ],
   "source": [
    "y = data[[\"HasDetections\"]]\n",
    "print(y.shape)"
   ]
  },
  {
   "cell_type": "code",
   "execution_count": 12,
   "metadata": {},
   "outputs": [
    {
     "name": "stdout",
     "output_type": "stream",
     "text": [
      "start get_X\n",
      "(8921483, 83)\n",
      "SmartScreen\n",
      "(8921483, 28)\n",
      "(8921483, 47)\n"
     ]
    },
    {
     "data": {
      "text/html": [
       "<div>\n",
       "<style scoped>\n",
       "    .dataframe tbody tr th:only-of-type {\n",
       "        vertical-align: middle;\n",
       "    }\n",
       "\n",
       "    .dataframe tbody tr th {\n",
       "        vertical-align: top;\n",
       "    }\n",
       "\n",
       "    .dataframe thead th {\n",
       "        text-align: right;\n",
       "    }\n",
       "</style>\n",
       "<table border=\"1\" class=\"dataframe\">\n",
       "  <thead>\n",
       "    <tr style=\"text-align: right;\">\n",
       "      <th></th>\n",
       "      <th>Census_SystemVolumeTotalCapacity</th>\n",
       "      <th>Census_OEMModelIdentifier</th>\n",
       "      <th>CityIdentifier</th>\n",
       "      <th>Census_FirmwareVersionIdentifier</th>\n",
       "      <th>Census_InternalBatteryNumberOfCharges</th>\n",
       "      <th>AVProductStatesIdentifier</th>\n",
       "      <th>Census_PrimaryDiskTotalCapacity</th>\n",
       "      <th>Census_OEMNameIdentifier</th>\n",
       "      <th>Census_TotalPhysicalRAM</th>\n",
       "      <th>Census_ProcessorModelIdentifier</th>\n",
       "      <th>...</th>\n",
       "      <th>SmartScreen_Prompt</th>\n",
       "      <th>SmartScreen_Promt</th>\n",
       "      <th>SmartScreen_RequireAdmin</th>\n",
       "      <th>SmartScreen_Warn</th>\n",
       "      <th>SmartScreen_off</th>\n",
       "      <th>SmartScreen_on</th>\n",
       "      <th>SmartScreen_prompt</th>\n",
       "      <th>SmartScreen_requireAdmin</th>\n",
       "      <th>SmartScreen_requireadmin</th>\n",
       "      <th>SmartScreen_warn</th>\n",
       "    </tr>\n",
       "  </thead>\n",
       "  <tbody>\n",
       "    <tr>\n",
       "      <th>0</th>\n",
       "      <td>299451.0</td>\n",
       "      <td>9124.0</td>\n",
       "      <td>128035.0</td>\n",
       "      <td>36144.0</td>\n",
       "      <td>4.294967e+09</td>\n",
       "      <td>53447.0</td>\n",
       "      <td>476940.0</td>\n",
       "      <td>2668.0</td>\n",
       "      <td>4096.0</td>\n",
       "      <td>2341.0</td>\n",
       "      <td>...</td>\n",
       "      <td>0</td>\n",
       "      <td>0</td>\n",
       "      <td>0</td>\n",
       "      <td>0</td>\n",
       "      <td>0</td>\n",
       "      <td>0</td>\n",
       "      <td>0</td>\n",
       "      <td>0</td>\n",
       "      <td>0</td>\n",
       "      <td>0</td>\n",
       "    </tr>\n",
       "    <tr>\n",
       "      <th>1</th>\n",
       "      <td>102385.0</td>\n",
       "      <td>91656.0</td>\n",
       "      <td>1482.0</td>\n",
       "      <td>57858.0</td>\n",
       "      <td>1.000000e+00</td>\n",
       "      <td>53447.0</td>\n",
       "      <td>476940.0</td>\n",
       "      <td>2668.0</td>\n",
       "      <td>4096.0</td>\n",
       "      <td>2405.0</td>\n",
       "      <td>...</td>\n",
       "      <td>0</td>\n",
       "      <td>0</td>\n",
       "      <td>0</td>\n",
       "      <td>0</td>\n",
       "      <td>0</td>\n",
       "      <td>0</td>\n",
       "      <td>0</td>\n",
       "      <td>0</td>\n",
       "      <td>0</td>\n",
       "      <td>0</td>\n",
       "    </tr>\n",
       "    <tr>\n",
       "      <th>2</th>\n",
       "      <td>113907.0</td>\n",
       "      <td>317701.0</td>\n",
       "      <td>153579.0</td>\n",
       "      <td>52682.0</td>\n",
       "      <td>4.294967e+09</td>\n",
       "      <td>53447.0</td>\n",
       "      <td>114473.0</td>\n",
       "      <td>4909.0</td>\n",
       "      <td>4096.0</td>\n",
       "      <td>1972.0</td>\n",
       "      <td>...</td>\n",
       "      <td>0</td>\n",
       "      <td>0</td>\n",
       "      <td>1</td>\n",
       "      <td>0</td>\n",
       "      <td>0</td>\n",
       "      <td>0</td>\n",
       "      <td>0</td>\n",
       "      <td>0</td>\n",
       "      <td>0</td>\n",
       "      <td>0</td>\n",
       "    </tr>\n",
       "    <tr>\n",
       "      <th>3</th>\n",
       "      <td>227116.0</td>\n",
       "      <td>275890.0</td>\n",
       "      <td>20710.0</td>\n",
       "      <td>20050.0</td>\n",
       "      <td>4.294967e+09</td>\n",
       "      <td>53447.0</td>\n",
       "      <td>238475.0</td>\n",
       "      <td>1443.0</td>\n",
       "      <td>4096.0</td>\n",
       "      <td>2273.0</td>\n",
       "      <td>...</td>\n",
       "      <td>0</td>\n",
       "      <td>0</td>\n",
       "      <td>0</td>\n",
       "      <td>0</td>\n",
       "      <td>0</td>\n",
       "      <td>0</td>\n",
       "      <td>0</td>\n",
       "      <td>0</td>\n",
       "      <td>0</td>\n",
       "      <td>0</td>\n",
       "    </tr>\n",
       "    <tr>\n",
       "      <th>4</th>\n",
       "      <td>101900.0</td>\n",
       "      <td>331929.0</td>\n",
       "      <td>37376.0</td>\n",
       "      <td>19844.0</td>\n",
       "      <td>0.000000e+00</td>\n",
       "      <td>53447.0</td>\n",
       "      <td>476940.0</td>\n",
       "      <td>1443.0</td>\n",
       "      <td>6144.0</td>\n",
       "      <td>2500.0</td>\n",
       "      <td>...</td>\n",
       "      <td>0</td>\n",
       "      <td>0</td>\n",
       "      <td>1</td>\n",
       "      <td>0</td>\n",
       "      <td>0</td>\n",
       "      <td>0</td>\n",
       "      <td>0</td>\n",
       "      <td>0</td>\n",
       "      <td>0</td>\n",
       "      <td>0</td>\n",
       "    </tr>\n",
       "  </tbody>\n",
       "</table>\n",
       "<p>5 rows × 47 columns</p>\n",
       "</div>"
      ],
      "text/plain": [
       "   Census_SystemVolumeTotalCapacity  Census_OEMModelIdentifier  \\\n",
       "0                          299451.0                     9124.0   \n",
       "1                          102385.0                    91656.0   \n",
       "2                          113907.0                   317701.0   \n",
       "3                          227116.0                   275890.0   \n",
       "4                          101900.0                   331929.0   \n",
       "\n",
       "   CityIdentifier  Census_FirmwareVersionIdentifier  \\\n",
       "0        128035.0                           36144.0   \n",
       "1          1482.0                           57858.0   \n",
       "2        153579.0                           52682.0   \n",
       "3         20710.0                           20050.0   \n",
       "4         37376.0                           19844.0   \n",
       "\n",
       "   Census_InternalBatteryNumberOfCharges  AVProductStatesIdentifier  \\\n",
       "0                           4.294967e+09                    53447.0   \n",
       "1                           1.000000e+00                    53447.0   \n",
       "2                           4.294967e+09                    53447.0   \n",
       "3                           4.294967e+09                    53447.0   \n",
       "4                           0.000000e+00                    53447.0   \n",
       "\n",
       "   Census_PrimaryDiskTotalCapacity  Census_OEMNameIdentifier  \\\n",
       "0                         476940.0                    2668.0   \n",
       "1                         476940.0                    2668.0   \n",
       "2                         114473.0                    4909.0   \n",
       "3                         238475.0                    1443.0   \n",
       "4                         476940.0                    1443.0   \n",
       "\n",
       "   Census_TotalPhysicalRAM  Census_ProcessorModelIdentifier        ...         \\\n",
       "0                   4096.0                           2341.0        ...          \n",
       "1                   4096.0                           2405.0        ...          \n",
       "2                   4096.0                           1972.0        ...          \n",
       "3                   4096.0                           2273.0        ...          \n",
       "4                   6144.0                           2500.0        ...          \n",
       "\n",
       "   SmartScreen_Prompt  SmartScreen_Promt  SmartScreen_RequireAdmin  \\\n",
       "0                   0                  0                         0   \n",
       "1                   0                  0                         0   \n",
       "2                   0                  0                         1   \n",
       "3                   0                  0                         0   \n",
       "4                   0                  0                         1   \n",
       "\n",
       "   SmartScreen_Warn  SmartScreen_off  SmartScreen_on  SmartScreen_prompt  \\\n",
       "0                 0                0               0                   0   \n",
       "1                 0                0               0                   0   \n",
       "2                 0                0               0                   0   \n",
       "3                 0                0               0                   0   \n",
       "4                 0                0               0                   0   \n",
       "\n",
       "   SmartScreen_requireAdmin  SmartScreen_requireadmin  SmartScreen_warn  \n",
       "0                         0                         0                 0  \n",
       "1                         0                         0                 0  \n",
       "2                         0                         0                 0  \n",
       "3                         0                         0                 0  \n",
       "4                         0                         0                 0  \n",
       "\n",
       "[5 rows x 47 columns]"
      ]
     },
     "execution_count": 12,
     "metadata": {},
     "output_type": "execute_result"
    }
   ],
   "source": [
    "data = get_X(data)\n",
    "data.head()"
   ]
  },
  {
   "cell_type": "code",
   "execution_count": 14,
   "metadata": {},
   "outputs": [
    {
     "name": "stdout",
     "output_type": "stream",
     "text": [
      "Start cleanup_data\n",
      "Census_SystemVolumeTotalCapacity\n",
      "Census_OEMModelIdentifier\n",
      "CityIdentifier\n",
      "Census_FirmwareVersionIdentifier\n",
      "Census_InternalBatteryNumberOfCharges\n",
      "AVProductStatesIdentifier\n",
      "Census_PrimaryDiskTotalCapacity\n",
      "Census_OEMNameIdentifier\n",
      "Census_TotalPhysicalRAM\n",
      "Census_ProcessorModelIdentifier\n",
      "Census_InternalPrimaryDisplayResolutionHorizontal\n",
      "Census_InternalPrimaryDisplayResolutionVertical\n",
      "Census_InternalPrimaryDiagonalDisplaySizeInInches\n",
      "Census_FirmwareManufacturerIdentifier\n",
      "IeVerIdentifier\n",
      "GeoNameIdentifier\n",
      "OrganizationIdentifier\n",
      "Census_ProcessorCoreCount\n",
      "Census_OSInstallLanguageIdentifier\n",
      "Wdft_RegionIdentifier\n",
      "AVProductsInstalled\n",
      "Wdft_IsGamer\n"
     ]
    }
   ],
   "source": [
    "data = cleanup_data(data)"
   ]
  },
  {
   "cell_type": "code",
   "execution_count": 13,
   "metadata": {},
   "outputs": [
    {
     "name": "stdout",
     "output_type": "stream",
     "text": [
      "(8921483, 47) (8921483, 1)\n"
     ]
    }
   ],
   "source": [
    "print(data.shape, y.shape)"
   ]
  },
  {
   "cell_type": "code",
   "execution_count": 15,
   "metadata": {},
   "outputs": [
    {
     "name": "stdout",
     "output_type": "stream",
     "text": [
      "(6691112, 47) (6691112, 1)\n"
     ]
    }
   ],
   "source": [
    "from sklearn.model_selection import train_test_split\n",
    "X_train, X_test, y_train, y_test = train_test_split(data, y, random_state=1, stratify=y)\n",
    "print(X_train.shape, y_train.shape)"
   ]
  },
  {
   "cell_type": "code",
   "execution_count": 16,
   "metadata": {},
   "outputs": [
    {
     "name": "stdout",
     "output_type": "stream",
     "text": [
      "(6691112, 47) (6691112, 1)\n"
     ]
    }
   ],
   "source": [
    "print(X_train.shape, y_train.shape)"
   ]
  },
  {
   "cell_type": "code",
   "execution_count": 27,
   "metadata": {},
   "outputs": [
    {
     "data": {
      "text/plain": [
       "47"
      ]
     },
     "execution_count": 27,
     "metadata": {},
     "output_type": "execute_result"
    }
   ],
   "source": [
    "X_train.shape[1]"
   ]
  },
  {
   "cell_type": "code",
   "execution_count": 28,
   "metadata": {},
   "outputs": [
    {
     "data": {
      "text/plain": [
       "7433569    0\n",
       "4610591    0\n",
       "8339454    1\n",
       "5962255    1\n",
       "7407408    0\n",
       "Name: HasDetections, dtype: int64"
      ]
     },
     "execution_count": 28,
     "metadata": {},
     "output_type": "execute_result"
    }
   ],
   "source": [
    "y_train[\"HasDetections\"].head()"
   ]
  },
  {
   "cell_type": "code",
   "execution_count": 29,
   "metadata": {},
   "outputs": [
    {
     "data": {
      "text/html": [
       "<div>\n",
       "<style scoped>\n",
       "    .dataframe tbody tr th:only-of-type {\n",
       "        vertical-align: middle;\n",
       "    }\n",
       "\n",
       "    .dataframe tbody tr th {\n",
       "        vertical-align: top;\n",
       "    }\n",
       "\n",
       "    .dataframe thead th {\n",
       "        text-align: right;\n",
       "    }\n",
       "</style>\n",
       "<table border=\"1\" class=\"dataframe\">\n",
       "  <thead>\n",
       "    <tr style=\"text-align: right;\">\n",
       "      <th></th>\n",
       "      <th>HasDetections</th>\n",
       "    </tr>\n",
       "  </thead>\n",
       "  <tbody>\n",
       "    <tr>\n",
       "      <th>7433569</th>\n",
       "      <td>False</td>\n",
       "    </tr>\n",
       "    <tr>\n",
       "      <th>4610591</th>\n",
       "      <td>False</td>\n",
       "    </tr>\n",
       "    <tr>\n",
       "      <th>8339454</th>\n",
       "      <td>True</td>\n",
       "    </tr>\n",
       "    <tr>\n",
       "      <th>5962255</th>\n",
       "      <td>True</td>\n",
       "    </tr>\n",
       "    <tr>\n",
       "      <th>7407408</th>\n",
       "      <td>False</td>\n",
       "    </tr>\n",
       "  </tbody>\n",
       "</table>\n",
       "</div>"
      ],
      "text/plain": [
       "        HasDetections\n",
       "7433569         False\n",
       "4610591         False\n",
       "8339454          True\n",
       "5962255          True\n",
       "7407408         False"
      ]
     },
     "execution_count": 29,
     "metadata": {},
     "output_type": "execute_result"
    }
   ],
   "source": [
    "y_train[\"HasDetections\"] = y_train[\"HasDetections\"].apply(lambda x: \"True\" if x==1 else \"False\")\n",
    "y_train.head()"
   ]
  },
  {
   "cell_type": "code",
   "execution_count": 30,
   "metadata": {},
   "outputs": [
    {
     "data": {
      "text/html": [
       "<div>\n",
       "<style scoped>\n",
       "    .dataframe tbody tr th:only-of-type {\n",
       "        vertical-align: middle;\n",
       "    }\n",
       "\n",
       "    .dataframe tbody tr th {\n",
       "        vertical-align: top;\n",
       "    }\n",
       "\n",
       "    .dataframe thead th {\n",
       "        text-align: right;\n",
       "    }\n",
       "</style>\n",
       "<table border=\"1\" class=\"dataframe\">\n",
       "  <thead>\n",
       "    <tr style=\"text-align: right;\">\n",
       "      <th></th>\n",
       "      <th>HasDetections_False</th>\n",
       "      <th>HasDetections_True</th>\n",
       "    </tr>\n",
       "  </thead>\n",
       "  <tbody>\n",
       "    <tr>\n",
       "      <th>7433569</th>\n",
       "      <td>1</td>\n",
       "      <td>0</td>\n",
       "    </tr>\n",
       "    <tr>\n",
       "      <th>4610591</th>\n",
       "      <td>1</td>\n",
       "      <td>0</td>\n",
       "    </tr>\n",
       "    <tr>\n",
       "      <th>8339454</th>\n",
       "      <td>0</td>\n",
       "      <td>1</td>\n",
       "    </tr>\n",
       "    <tr>\n",
       "      <th>5962255</th>\n",
       "      <td>0</td>\n",
       "      <td>1</td>\n",
       "    </tr>\n",
       "    <tr>\n",
       "      <th>7407408</th>\n",
       "      <td>1</td>\n",
       "      <td>0</td>\n",
       "    </tr>\n",
       "  </tbody>\n",
       "</table>\n",
       "</div>"
      ],
      "text/plain": [
       "         HasDetections_False  HasDetections_True\n",
       "7433569                    1                   0\n",
       "4610591                    1                   0\n",
       "8339454                    0                   1\n",
       "5962255                    0                   1\n",
       "7407408                    1                   0"
      ]
     },
     "execution_count": 30,
     "metadata": {},
     "output_type": "execute_result"
    }
   ],
   "source": [
    "Y_train = pd.get_dummies(y_train)\n",
    "Y_train.head()"
   ]
  },
  {
   "cell_type": "code",
   "execution_count": 31,
   "metadata": {},
   "outputs": [
    {
     "data": {
      "text/plain": [
       "3164226    1\n",
       "556644     1\n",
       "7764601    0\n",
       "3856066    0\n",
       "8261251    0\n",
       "Name: HasDetections, dtype: int64"
      ]
     },
     "execution_count": 31,
     "metadata": {},
     "output_type": "execute_result"
    }
   ],
   "source": [
    "y_test[\"HasDetections\"].head()"
   ]
  },
  {
   "cell_type": "code",
   "execution_count": 32,
   "metadata": {},
   "outputs": [
    {
     "data": {
      "text/html": [
       "<div>\n",
       "<style scoped>\n",
       "    .dataframe tbody tr th:only-of-type {\n",
       "        vertical-align: middle;\n",
       "    }\n",
       "\n",
       "    .dataframe tbody tr th {\n",
       "        vertical-align: top;\n",
       "    }\n",
       "\n",
       "    .dataframe thead th {\n",
       "        text-align: right;\n",
       "    }\n",
       "</style>\n",
       "<table border=\"1\" class=\"dataframe\">\n",
       "  <thead>\n",
       "    <tr style=\"text-align: right;\">\n",
       "      <th></th>\n",
       "      <th>HasDetections</th>\n",
       "    </tr>\n",
       "  </thead>\n",
       "  <tbody>\n",
       "    <tr>\n",
       "      <th>3164226</th>\n",
       "      <td>True</td>\n",
       "    </tr>\n",
       "    <tr>\n",
       "      <th>556644</th>\n",
       "      <td>True</td>\n",
       "    </tr>\n",
       "    <tr>\n",
       "      <th>7764601</th>\n",
       "      <td>False</td>\n",
       "    </tr>\n",
       "    <tr>\n",
       "      <th>3856066</th>\n",
       "      <td>False</td>\n",
       "    </tr>\n",
       "    <tr>\n",
       "      <th>8261251</th>\n",
       "      <td>False</td>\n",
       "    </tr>\n",
       "  </tbody>\n",
       "</table>\n",
       "</div>"
      ],
      "text/plain": [
       "        HasDetections\n",
       "3164226          True\n",
       "556644           True\n",
       "7764601         False\n",
       "3856066         False\n",
       "8261251         False"
      ]
     },
     "execution_count": 32,
     "metadata": {},
     "output_type": "execute_result"
    }
   ],
   "source": [
    "y_test[\"HasDetections\"] = y_test[\"HasDetections\"].apply(lambda x: \"True\" if x==1 else \"False\")\n",
    "y_test.head()"
   ]
  },
  {
   "cell_type": "code",
   "execution_count": 33,
   "metadata": {},
   "outputs": [
    {
     "data": {
      "text/html": [
       "<div>\n",
       "<style scoped>\n",
       "    .dataframe tbody tr th:only-of-type {\n",
       "        vertical-align: middle;\n",
       "    }\n",
       "\n",
       "    .dataframe tbody tr th {\n",
       "        vertical-align: top;\n",
       "    }\n",
       "\n",
       "    .dataframe thead th {\n",
       "        text-align: right;\n",
       "    }\n",
       "</style>\n",
       "<table border=\"1\" class=\"dataframe\">\n",
       "  <thead>\n",
       "    <tr style=\"text-align: right;\">\n",
       "      <th></th>\n",
       "      <th>HasDetections_False</th>\n",
       "      <th>HasDetections_True</th>\n",
       "    </tr>\n",
       "  </thead>\n",
       "  <tbody>\n",
       "    <tr>\n",
       "      <th>3164226</th>\n",
       "      <td>0</td>\n",
       "      <td>1</td>\n",
       "    </tr>\n",
       "    <tr>\n",
       "      <th>556644</th>\n",
       "      <td>0</td>\n",
       "      <td>1</td>\n",
       "    </tr>\n",
       "    <tr>\n",
       "      <th>7764601</th>\n",
       "      <td>1</td>\n",
       "      <td>0</td>\n",
       "    </tr>\n",
       "    <tr>\n",
       "      <th>3856066</th>\n",
       "      <td>1</td>\n",
       "      <td>0</td>\n",
       "    </tr>\n",
       "    <tr>\n",
       "      <th>8261251</th>\n",
       "      <td>1</td>\n",
       "      <td>0</td>\n",
       "    </tr>\n",
       "  </tbody>\n",
       "</table>\n",
       "</div>"
      ],
      "text/plain": [
       "         HasDetections_False  HasDetections_True\n",
       "3164226                    0                   1\n",
       "556644                     0                   1\n",
       "7764601                    1                   0\n",
       "3856066                    1                   0\n",
       "8261251                    1                   0"
      ]
     },
     "execution_count": 33,
     "metadata": {},
     "output_type": "execute_result"
    }
   ],
   "source": [
    "Y_test = pd.get_dummies(y_test)\n",
    "Y_test.head()"
   ]
  },
  {
   "cell_type": "code",
   "execution_count": 34,
   "metadata": {},
   "outputs": [
    {
     "name": "stderr",
     "output_type": "stream",
     "text": [
      "Using TensorFlow backend.\n"
     ]
    }
   ],
   "source": [
    "from keras.models import Sequential\n",
    "from keras.layers import Dense, Activation\n",
    "output_dim = nb_classes = 2\n",
    "input_dim = X_train.shape[1]\n",
    "model = Sequential()\n",
    "model.add(Dense(output_dim, input_dim=input_dim, activation=\"softmax\"))\n",
    "batch_size = 256\n",
    "nb_epoch = 20"
   ]
  },
  {
   "cell_type": "code",
   "execution_count": null,
   "metadata": {},
   "outputs": [],
   "source": [
    "model.compile(optimizer=\"sgd\", loss=\"categorical_crossentropy\", metrics=[\"accuracy\"])\n",
    "history = model.fit(X_train, Y_train, batch_size=batch_size, nb_epoch=nb_epoch, verbose=1, validation_data=(X_test, Y_test))"
   ]
  },
  {
   "cell_type": "code",
   "execution_count": 35,
   "metadata": {},
   "outputs": [],
   "source": [
    "import sys\n",
    "default_stdout = sys.stdout\n",
    "sys.stdout = open('keras_training.txt', 'w')\n",
    "\n",
    "model.compile(optimizer=\"sgd\", loss=\"categorical_crossentropy\", metrics=[\"accuracy\"])\n",
    "history = model.fit(X_train, Y_train, batch_size=batch_size, nb_epoch=nb_epoch, verbose=2, validation_data=(X_test, Y_test))\n",
    "\n",
    "sys.stdout = sys.__stdout__\n",
    "sys.stdout = default_stdout"
   ]
  },
  {
   "cell_type": "code",
   "execution_count": 37,
   "metadata": {},
   "outputs": [
    {
     "name": "stdout",
     "output_type": "stream",
     "text": [
      "6691112/6691112 [==============================] - 33s 5us/step\n",
      "2230371/2230371 [==============================] - 11s 5us/step\n",
      "Train Loss: 8.062388928235132, Accuracy: 0.4997927100907109\n",
      "Test Loss: 8.062390134249743, Accuracy: 0.4997926353949946\n"
     ]
    }
   ],
   "source": [
    "train_model_loss, train_model_accuracy = model.evaluate(X_train, Y_train, batch_size=256)\n",
    "test_model_loss, test_model_accuracy = model.evaluate(X_test, Y_test, batch_size=256)\n",
    "#print(f\"Training Data Score: {training_r2}\")\n",
    "#print(f\"Testing Data Score: {test_r2}\")\n",
    "print(f\"Train Loss: {train_model_loss}, Accuracy: {train_model_accuracy}\")\n",
    "print(f\"Test Loss: {test_model_loss}, Accuracy: {test_model_accuracy}\")"
   ]
  },
  {
   "cell_type": "code",
   "execution_count": 38,
   "metadata": {},
   "outputs": [],
   "source": [
    "predict_train = model.predict(X_train)\n",
    "predict_test = model.predict(X_test)"
   ]
  },
  {
   "cell_type": "code",
   "execution_count": 39,
   "metadata": {},
   "outputs": [
    {
     "name": "stdout",
     "output_type": "stream",
     "text": [
      "(6691112, 2) (6691112, 2)\n",
      "(2230371, 2) (2230371, 2)\n"
     ]
    }
   ],
   "source": [
    "print(predict_train.shape, Y_train.shape)\n",
    "print(predict_test.shape, Y_test.shape)"
   ]
  },
  {
   "cell_type": "code",
   "execution_count": 40,
   "metadata": {},
   "outputs": [],
   "source": [
    "#model.model.save(\"secuencial_trained_2.h5\")"
   ]
  },
  {
   "cell_type": "code",
   "execution_count": 41,
   "metadata": {},
   "outputs": [],
   "source": [
    "from keras.models import load_model\n",
    "model_load = load_model(\"secuencial_trained_2.h5\")"
   ]
  },
  {
   "cell_type": "code",
   "execution_count": 42,
   "metadata": {},
   "outputs": [
    {
     "name": "stdout",
     "output_type": "stream",
     "text": [
      "Loss: 8.062390107589358, Accuracy: 0.4997926353956627\n"
     ]
    }
   ],
   "source": [
    "model_loss, model_accuracy = model_load.evaluate(X_test, Y_test, verbose=2)\n",
    "print(f\"Loss: {model_loss}, Accuracy: {model_accuracy}\")"
   ]
  },
  {
   "cell_type": "code",
   "execution_count": null,
   "metadata": {},
   "outputs": [],
   "source": [
    "#plt.scatter(predict_train, predict_train - Y_train, c=\"blue\", label=\"Training Data\")\n",
    "plt.scatter(predict_train[0], c=\"blue\", label=\"Training Data\")\n",
    "#plt.scatter(predict_test, predict_test - Y_test, c=\"orange\", label=\"Testing Data\")\n",
    "#plt.scatter(predict_test, c=\"orange\", label=\"Testing Data\")\n",
    "plt.legend()\n",
    "#plt.hlines(y=0, xmin=y_test.min(), xmax=y_test.max())\n",
    "plt.title(\"Residual Plot\")\n",
    "plt.show()"
   ]
  }
 ],
 "metadata": {
  "kernelspec": {
   "display_name": "Python 3",
   "language": "python",
   "name": "python3"
  },
  "language_info": {
   "codemirror_mode": {
    "name": "ipython",
    "version": 3
   },
   "file_extension": ".py",
   "mimetype": "text/x-python",
   "name": "python",
   "nbconvert_exporter": "python",
   "pygments_lexer": "ipython3",
   "version": "3.6.5"
  }
 },
 "nbformat": 4,
 "nbformat_minor": 2
}
